{
 "cells": [
  {
   "cell_type": "raw",
   "metadata": {
    "vscode": {
     "languageId": "raw"
    }
   },
   "source": [
    "---\n",
    "title: \"Annotation of scRNA-seq\"\n",
    "author: \"Mohamed Mabrouk\"\n",
    "date: today\n",
    "format:\n",
    "  html:\n",
    "    toc: true\n",
    "    toc-depth: 3\n",
    "    html-math-method: katex\n",
    "    code-fold: true\n",
    "    embed-resources: true\n",
    "    page-layout: full\n",
    "execute:\n",
    "    echo: true\n",
    "    warning: false\n",
    "---"
   ]
  },
  {
   "cell_type": "code",
   "execution_count": null,
   "metadata": {},
   "outputs": [],
   "source": [
    "# -.-|m { input: false, output: false, input_fold: show}\n",
    "\n",
    "from os import path, system\n",
    "\n",
    "import GPUtil\n",
    "import numpy as np\n",
    "import scanpy as sc\n",
    "import seaborn as sns\n",
    "import session_info\n",
    "import tomlkit\n",
    "from anndata import AnnData\n",
    "from pathlib import Path\n",
    "from tomlkit.items import String, Array\n",
    "from typing import Union\n",
    "\n",
    "from utils.util_funcs import cell_typist_annotate"
   ]
  },
  {
   "cell_type": "code",
   "execution_count": null,
   "metadata": {},
   "outputs": [],
   "source": [
    "# Add CELL_TYPIST model(s) to use\n",
    "CELL_TYPIST_MODELS: list[str] = []\n",
    "MARKER_GENES_PATH: Path = \"\"\n",
    "BATCH_SIZE = 128"
   ]
  },
  {
   "cell_type": "code",
   "execution_count": null,
   "metadata": {},
   "outputs": [],
   "source": [
    "# | echo: false\n",
    "# | output: false\n",
    "# | warning: false\n",
    "\n",
    "## Pipeline parameters\n",
    "with open(\"../config.toml\", \"r\") as f:\n",
    "    config = tomlkit.parse(f.read())"
   ]
  },
  {
   "cell_type": "code",
   "execution_count": null,
   "metadata": {},
   "outputs": [],
   "source": [
    "ROOT_DIR: String = config[\"basic\"][\"ANALYSIS_DIR\"]\n",
    "DIR_SAVE : String= path.join(ROOT_DIR, config[\"basic\"][\"DIR_SAVE\"])\n",
    "COUNTS_LAYER: String = config[\"normalization\"][\"COUNTS_LAYER\"]\n",
    "CLUSTERING_COL: String = config[\"clustering\"][\"CLUSTERING_COL\"]\n",
    "ANNOTATION_METHODS: Union[String, Array] = config[\"annotation\"][\"ANNOTATION_METHOD\"]\n",
    "NORMAMALIZATION_LAYER: String = config[\"normalization\"][\"NORMALIZATION_METHOD\"]"
   ]
  },
  {
   "cell_type": "code",
   "execution_count": null,
   "metadata": {},
   "outputs": [],
   "source": [
    "adata: AnnData = sc.read_h5ad(path.join(DIR_SAVE, \"adata.h5ad\"))"
   ]
  },
  {
   "cell_type": "code",
   "execution_count": null,
   "metadata": {},
   "outputs": [],
   "source": [
    "def annotation_dispatcher(method: str, adata: AnnData) -> None:\n",
    "    if method == \"celltypist\":\n",
    "        cell_typist_annotate(adata, CELL_TYPIST_MODELS)\n",
    "        adata.write(path.join(DIR_SAVE, \"adata.h5ad\"))\n",
    "    if method == \"scGPT\":\n",
    "        deviceIDs = GPUtil.getAvailable()\n",
    "        if len(deviceIDs) > 0:\n",
    "            system(\n",
    "                f\"pixi run -e scgpt scgpt_annotate -i {path.join(DIR_SAVE, 'adata.h5ad')} --config {path.join(ROOT_DIR, 'config.toml')} -b {BATCH_SIZE}\"\n",
    "            )\n",
    "        else:\n",
    "            print(\"CUDA is not available, scGPT will not be run efficiently on CPU\")\n",
    "            exit(code=0)\n",
    "\n",
    "    if method == \"scTAB\":\n",
    "        system(\n",
    "            f\"pixi run -e sctab sctab_annotate --input {path.join(DIR_SAVE, 'adata.h5ad')} --config {path.join(ROOT_DIR, 'config.toml')}\"\n",
    "        )\n",
    "        adata = sc.read_h5ad(path.join(DIR_SAVE, \"adata.h5ad\"))\n",
    "\n",
    "\n",
    "# Getting a stable counts layer to be used later, setting X to be raw count values.\n",
    "if COUNTS_LAYER == \"X\":\n",
    "    adata.layers[\"counts\"] = adata.X.copy()\n",
    "    COUNTS_LAYER = \"counts\"\n",
    "elif COUNTS_LAYER in adata.layers.keys():\n",
    "    adata.X = adata.layers[COUNTS_LAYER].copy()\n",
    "else:\n",
    "    raise ValueError(\"{COUNTS_LAYER} layer can't be found in the object\")\n",
    "\n",
    "if isinstance(ANNOTATION_METHODS, list):\n",
    "    for METHOD in ANNOTATION_METHODS:\n",
    "        annotation_dispatcher(METHOD, adata)\n",
    "elif isinstance(ANNOTATION_METHODS, str):\n",
    "    annotation_dispatcher(ANNOTATION_METHODS, adata)"
   ]
  },
  {
   "cell_type": "code",
   "execution_count": null,
   "metadata": {},
   "outputs": [],
   "source": [
    "adata = sc.read_h5ad(path.join(DIR_SAVE, \"adata.h5ad\"))"
   ]
  },
  {
   "cell_type": "markdown",
   "metadata": {},
   "source": [
    "## UMAP after annotation"
   ]
  },
  {
   "cell_type": "code",
   "execution_count": null,
   "metadata": {},
   "outputs": [],
   "source": [
    "sc.pl.umap(adata, color=\"scTAB_annotation_majority_voting\")"
   ]
  }
 ],
 "metadata": {
  "kernelspec": {
   "display_name": "Pixi - Python 3 (ipykernel)",
   "language": "python",
   "name": "pixi-kernel-python3"
  },
  "language_info": {
   "codemirror_mode": {
    "name": "ipython",
    "version": 3
   },
   "file_extension": ".py",
   "mimetype": "text/x-python",
   "name": "python",
   "nbconvert_exporter": "python",
   "pygments_lexer": "ipython3",
   "version": "3.9.19"
  }
 },
 "nbformat": 4,
 "nbformat_minor": 4
}
