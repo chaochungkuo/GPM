{
 "cells": [
  {
   "cell_type": "raw",
   "metadata": {
    "vscode": {
     "languageId": "raw"
    }
   },
   "source": [
    "---\n",
    "title: \"Annotation of scRNA-seq\"\n",
    "author: \"Mohamed Mabrouk\"\n",
    "date: today\n",
    "format:\n",
    "  html:\n",
    "    toc: true\n",
    "    toc-depth: 3\n",
    "    html-math-method: katex\n",
    "    code-fold: true\n",
    "    embed-resources: true\n",
    "    page-layout: full\n",
    "execute:\n",
    "    echo: true\n",
    "    warning: false\n",
    "---"
   ]
  },
  {
   "cell_type": "code",
   "execution_count": 13,
   "metadata": {},
   "outputs": [],
   "source": [
    "# -.-|m { input: false, output: false, input_fold: show}\n",
    "\n",
    "import tomlkit\n",
    "import scanpy as sc\n",
    "from anndata import AnnData\n",
    "import pandas as pd\n",
    "import numpy as np\n",
    "import seaborn as sns\n",
    "from pandas import DataFrame\n",
    "\n",
    "from os import path\n",
    "import session_info\n",
    "import logging\n",
    "from tempfile import TemporaryDirectory\n",
    "from os import system\n",
    "import torch\n",
    "\n",
    "logging.basicConfig(level=logging.ERROR)\n",
    "\n",
    "sc.set_figure_params(figsize=(6, 6), frameon=False)"
   ]
  },
  {
   "cell_type": "code",
   "execution_count": 14,
   "metadata": {},
   "outputs": [],
   "source": [
    "# Add CELL_TYPIST model(s) to use\n",
    "CELL_TYPIST_MODELS: list[str] = []"
   ]
  },
  {
   "cell_type": "code",
   "execution_count": 15,
   "metadata": {},
   "outputs": [],
   "source": [
    "# | echo: false\n",
    "# | output: false\n",
    "# | warning: false\n",
    "\n",
    "## Pipeline parameters\n",
    "with open(\"../config.toml\", \"r\") as f:\n",
    "    config = tomlkit.parse(f.read())"
   ]
  },
  {
   "cell_type": "code",
   "execution_count": 16,
   "metadata": {},
   "outputs": [],
   "source": [
    "ROOT_DIR = config[\"basic\"][\"ANALYSIS_DIR\"]\n",
    "DIR_SAVE = path.join(ROOT_DIR, config[\"basic\"][\"DIR_SAVE\"])\n",
    "COUNTS_LAYER = config[\"normalization\"][\"COUNTS_LAYER\"]\n",
    "CLUSTERING_COL = config[\"clustering\"][\"CLUSTERING_COL\"]\n",
    "TISSUE = config[\"basic\"][\"TISSUE\"]\n",
    "ANNOTATION_METHOD = config[\"annotation\"][\"ANNOTATION_METHOD\"]\n",
    "NORMAMALIZATION_LAYER = config[\"normalization\"][\"NORMALIZATION_METHOD\"]"
   ]
  },
  {
   "cell_type": "code",
   "execution_count": 17,
   "metadata": {},
   "outputs": [],
   "source": [
    "def cell_typist_annotate(adata: AnnData, models: list[str], inplace=True):\n",
    "    import celltypist\n",
    "    from celltypist import models as ctypist_models\n",
    "\n",
    "    if len(models) == 0:\n",
    "        raise ValueError(\"The models list are empty, enter valid model names.\")\n",
    "\n",
    "    all_models = ctypist_models.models_description().model.to_list()\n",
    "\n",
    "    for model in models:\n",
    "        if model not in all_models:\n",
    "            raise ValueError(\"{model} not found in supported cell typist models.\")\n",
    "\n",
    "    ctypist_models.download_models(force_update=True, model=models)\n",
    "\n",
    "    adata_celltypist = adata.copy()\n",
    "    adata_celltypist.X = adata.layers[COUNTS_LAYER]\n",
    "    sc.pp.normalize_per_cell(adata_celltypist, counts_per_cell_after=10**4)\n",
    "    sc.pp.log1p(adata_celltypist)\n",
    "    adata_celltypist.X = adata_celltypist.X.toarray()\n",
    "\n",
    "    for model in models:\n",
    "        loaded_model = ctypist_models.Model.load(model=model)\n",
    "        predictions = celltypist.annotate(\n",
    "            adata_celltypist, model=loaded_model, majority_voting=True\n",
    "        )\n",
    "        predictions_adata = predictions.to_adata()\n",
    "        adata.obs[\"celltypist_\" + model + \"_label\"] = predictions_adata.obs.loc[\n",
    "            adata.obs.index, \"majority_voting\"\n",
    "        ]\n",
    "        adata.obs[\"celltypist_\" + model + \"_conf_score\"] = predictions_adata.obs.loc[\n",
    "            adata.obs.index, \"conf_score\"\n",
    "        ]\n",
    "\n",
    "    if not inplace:\n",
    "        return adata"
   ]
  },
  {
   "cell_type": "code",
   "execution_count": 19,
   "metadata": {},
   "outputs": [],
   "source": [
    "adata = sc.read_h5ad(path.join(DIR_SAVE, \"adata.h5ad\"))\n",
    "# adata = sc.read_h5ad(\"../save/marcelo_ref.h5ad\")"
   ]
  },
  {
   "cell_type": "code",
   "execution_count": 20,
   "metadata": {},
   "outputs": [
    {
     "name": "stdout",
     "output_type": "stream",
     "text": [
      "Resources are ready\n",
      "Loading genes from model\n"
     ]
    },
    {
     "ename": "ModuleNotFoundError",
     "evalue": "No module named 'cellnet'",
     "output_type": "error",
     "traceback": [
      "\u001b[0;31m---------------------------------------------------------------------------\u001b[0m",
      "\u001b[0;31mModuleNotFoundError\u001b[0m                       Traceback (most recent call last)",
      "Cell \u001b[0;32mIn[20], line 26\u001b[0m\n\u001b[1;32m     23\u001b[0m \u001b[38;5;28;01mfrom\u001b[39;00m \u001b[38;5;21;01mscipy\u001b[39;00m\u001b[38;5;21;01m.\u001b[39;00m\u001b[38;5;21;01msparse\u001b[39;00m \u001b[38;5;28;01mimport\u001b[39;00m csc_matrix\n\u001b[1;32m     25\u001b[0m genes_from_model \u001b[38;5;241m=\u001b[39m dn_scTAB_resources()\n\u001b[0;32m---> 26\u001b[0m tabnet \u001b[38;5;241m=\u001b[39m \u001b[43mget_scTAB_model\u001b[49m\u001b[43m(\u001b[49m\u001b[43m)\u001b[49m\n\u001b[1;32m     27\u001b[0m loader \u001b[38;5;241m=\u001b[39m scTAB_data_loader(adata, genes_from_model, batchsize\u001b[38;5;241m=\u001b[39m\u001b[38;5;241m2048\u001b[39m)\n\u001b[1;32m     29\u001b[0m preds \u001b[38;5;241m=\u001b[39m []\n",
      "Cell \u001b[0;32mIn[18], line 78\u001b[0m, in \u001b[0;36mget_scTAB_model\u001b[0;34m()\u001b[0m\n\u001b[1;32m     76\u001b[0m \u001b[38;5;28;01mfrom\u001b[39;00m \u001b[38;5;21;01mcollections\u001b[39;00m \u001b[38;5;28;01mimport\u001b[39;00m OrderedDict\n\u001b[1;32m     77\u001b[0m \u001b[38;5;28;01mimport\u001b[39;00m \u001b[38;5;21;01myaml\u001b[39;00m\n\u001b[0;32m---> 78\u001b[0m \u001b[38;5;28;01mfrom\u001b[39;00m \u001b[38;5;21;01mutils\u001b[39;00m\u001b[38;5;21;01m.\u001b[39;00m\u001b[38;5;21;01mcellnet\u001b[39;00m\u001b[38;5;21;01m.\u001b[39;00m\u001b[38;5;21;01mtabnet\u001b[39;00m\u001b[38;5;21;01m.\u001b[39;00m\u001b[38;5;21;01mtab_network\u001b[39;00m \u001b[38;5;28;01mimport\u001b[39;00m TabNet\n\u001b[1;32m     80\u001b[0m \u001b[38;5;66;03m# load checkpoint\u001b[39;00m\n\u001b[1;32m     81\u001b[0m \u001b[38;5;28;01mif\u001b[39;00m torch\u001b[38;5;241m.\u001b[39mcuda\u001b[38;5;241m.\u001b[39mis_available():\n",
      "File \u001b[0;32m~/Documents/Projects/GPM/analysis/scanpy_pipeline/preprocessing/utils/cellnet/tabnet/tab_network.py:6\u001b[0m\n\u001b[1;32m      3\u001b[0m \u001b[38;5;28;01mimport\u001b[39;00m \u001b[38;5;21;01mtorch\u001b[39;00m\n\u001b[1;32m      4\u001b[0m \u001b[38;5;28;01mfrom\u001b[39;00m \u001b[38;5;21;01mtorch\u001b[39;00m\u001b[38;5;21;01m.\u001b[39;00m\u001b[38;5;21;01mnn\u001b[39;00m \u001b[38;5;28;01mimport\u001b[39;00m Linear, BatchNorm1d, ReLU\n\u001b[0;32m----> 6\u001b[0m \u001b[38;5;28;01mfrom\u001b[39;00m \u001b[38;5;21;01mcellnet\u001b[39;00m\u001b[38;5;21;01m.\u001b[39;00m\u001b[38;5;21;01mtabnet\u001b[39;00m \u001b[38;5;28;01mimport\u001b[39;00m sparsemax\n\u001b[1;32m      9\u001b[0m \u001b[38;5;28;01mdef\u001b[39;00m \u001b[38;5;21minitialize_non_glu\u001b[39m(module, input_dim, output_dim):\n\u001b[1;32m     10\u001b[0m     gain_value \u001b[38;5;241m=\u001b[39m sqrt((input_dim \u001b[38;5;241m+\u001b[39m output_dim) \u001b[38;5;241m/\u001b[39m sqrt(\u001b[38;5;241m4\u001b[39m \u001b[38;5;241m*\u001b[39m input_dim))\n",
      "\u001b[0;31mModuleNotFoundError\u001b[0m: No module named 'cellnet'"
     ]
    }
   ],
   "source": [
    "# Getting a stable counts layer to be used later, setting X to be raw count values.\n",
    "if COUNTS_LAYER == \"X\":\n",
    "    adata.layers[\"counts\"] = adata.X.copy()\n",
    "    COUNTS_LAYER = \"counts\"\n",
    "elif COUNTS_LAYER in adata.layers.keys():\n",
    "    adata.X = adata.layers[COUNTS_LAYER].copy()\n",
    "else:\n",
    "    raise ValueError(\"{COUNTS_LAYER} layer can't be found in the object\")\n",
    "\n",
    "\n",
    "if ANNOTATION_METHOD == \"celltypist\":\n",
    "    cell_typist_annotate(adata, CELL_TYPIST_MODELS)\n",
    "\n",
    "\n",
    "if ANNOTATION_METHOD == \"scGPT\":\n",
    "    print(\n",
    "        \"please use the accelerated_annotation notebook with a GPU, TPU, or HPU present.\"\n",
    "    )\n",
    "    exit(code=0)\n",
    "\n",
    "if ANNOTATION_METHOD == \"scTAB\":\n"
   ]
  },
  {
   "cell_type": "code",
   "execution_count": 1,
   "metadata": {},
   "outputs": [],
   "source": []
  }
 ],
 "metadata": {
  "kernelspec": {
   "display_name": "Python 3",
   "language": "python",
   "name": "python3"
  },
  "language_info": {
   "codemirror_mode": {
    "name": "ipython",
    "version": 3
   },
   "file_extension": ".py",
   "mimetype": "text/x-python",
   "name": "python",
   "nbconvert_exporter": "python",
   "pygments_lexer": "ipython3",
   "version": "3.11.9"
  }
 },
 "nbformat": 4,
 "nbformat_minor": 4
}
