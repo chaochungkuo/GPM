{
 "cells": [
  {
   "cell_type": "raw",
   "metadata": {},
   "source": [
    "title: QC of scRNA-seq\n",
    "author: Mohamed Mabrouk\n",
    "last compiled: \"{{ datetime.now().strftime('%Y-%m-%d') }}\"\n",
    "\"toc\": true\n",
    "output:\n",
    "    general:\n",
    "        input: false\n",
    "        output_stdout: false\n",
    "        output_error: false\n",
    "        output: true\n",
    "    html:\n",
    "        code_folding: hide"
   ]
  },
  {
   "cell_type": "code",
   "execution_count": null,
   "metadata": {},
   "outputs": [],
   "source": [
    "%load_ext pretty_jupyter"
   ]
  },
  {
   "cell_type": "code",
   "execution_count": null,
   "metadata": {},
   "outputs": [],
   "source": [
    "import sys\n",
    "import scvi\n",
    "import cellxgene_census\n",
    "import numpy as np\n",
    "import pandas as pd\n",
    "import scanpy as sc\n",
    "import tomlkit\n",
    "import logging\n",
    "from os import path, system\n",
    "from matplotlib import rc_context\n",
    "import matplotlib.pyplot as plt\n",
    "\n",
    "logging.basicConfig(level=logging.ERROR)\n"
   ]
  },
  {
   "cell_type": "code",
   "execution_count": null,
   "metadata": {},
   "outputs": [],
   "source": [
    "scGPT_model = \"../resources/scGPT_CP/\"\n",
    "scGPT_index = \"../resources/CellXGene_faiss_index/\"\n",
    "scGPT_column = \"scGPT\""
   ]
  },
  {
   "cell_type": "code",
   "execution_count": null,
   "metadata": {},
   "outputs": [],
   "source": [
    "## Pipeline parameters\n",
    "with open(\"../config.toml\", \"r\") as f:\n",
    "    config = tomlkit.parse(f.read())"
   ]
  },
  {
   "cell_type": "code",
   "execution_count": null,
   "metadata": {},
   "outputs": [],
   "source": [
    "ROOT_DIR = config[\"basic\"][\"ANALYSIS_DIR\"]\n",
    "DIR_SAVE = path.join(ROOT_DIR, config[\"basic\"][\"DIR_SAVE\"])\n",
    "TISSUE = config[\"basic\"][\"TISSUE\"]\n",
    "ANNOTATION_METHOD = config[\"annotation\"][\"ANNOTATION_METHOD\"]\n",
    "COUNTS_LAYER = config[\"normalization\"][\"COUNTS_LAYER\"]\n",
    "NORMAMALIZATION_LAYER = config[\"normalization\"][\"NORMALIZATION_METHOD\"]\n",
    "ANNOTATION_METHOD = config[\"annotation\"][\"ANNOTATION_METHOD\"]"
   ]
  },
  {
   "cell_type": "code",
   "execution_count": null,
   "metadata": {},
   "outputs": [],
   "source": [
    "adata = sc.read_h5ad(path.join(DIR_SAVE, \"adata.h5ad\"))"
   ]
  },
  {
   "cell_type": "markdown",
   "metadata": {},
   "source": [
    "# scGPT"
   ]
  },
  {
   "cell_type": "code",
   "execution_count": null,
   "metadata": {},
   "outputs": [],
   "source": [
    "# Run the scGPT annotation in a seperate process to avoid blocking the GPU resources in interactive mode\n",
    "if ANNOTATION_METHOD == \"scGPT\":\n",
    "    system(f\"python utils/scgpt_annotate.py -i {path.join(DIR_SAVE, 'adata.h5ad')} -c {scGPT_column} -m {scGPT_model} -n {scGPT_index} -o {path.join(DIR_SAVE, 'adata.h5ad')}\")\n",
    "    adata = sc.read_h5ad(path.join(DIR_SAVE, \"adata.h5ad\"))\n",
    "    with rc_context({\"figure.figsize\": (8,8)}):\n",
    "        sc.pl.umap(adata, color=[scGPT_column])\n",
    "        plt.tight_layout()\n"
   ]
  }
 ],
 "metadata": {
  "kernelspec": {
   "display_name": "Python 3",
   "language": "python",
   "name": "python3"
  },
  "language_info": {
   "codemirror_mode": {
    "name": "ipython",
    "version": 3
   },
   "file_extension": ".py",
   "mimetype": "text/x-python",
   "name": "python",
   "nbconvert_exporter": "python",
   "pygments_lexer": "ipython3",
   "version": "3.10.14"
  }
 },
 "nbformat": 4,
 "nbformat_minor": 4
}
