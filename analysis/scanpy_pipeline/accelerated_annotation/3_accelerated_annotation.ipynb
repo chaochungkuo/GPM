{
 "cells": [
  {
   "cell_type": "raw",
   "metadata": {},
   "source": [
    "title: QC of scRNA-seq\n",
    "author: Mohamed Mabrouk\n",
    "last compiled: \"{{ datetime.now().strftime('%Y-%m-%d') }}\"\n",
    "\"toc\": true\n",
    "output:\n",
    "    general:\n",
    "        input: false\n",
    "        output_stdout: false\n",
    "        output_error: false\n",
    "        output: true\n",
    "    html:\n",
    "        code_folding: hide"
   ]
  },
  {
   "cell_type": "code",
   "execution_count": null,
   "metadata": {},
   "outputs": [],
   "source": [
    "%load_ext pretty_jupyter"
   ]
  },
  {
   "cell_type": "code",
   "execution_count": null,
   "metadata": {},
   "outputs": [],
   "source": [
    "import sys\n",
    "import scvi\n",
    "import cellxgene_census\n",
    "import numpy as np\n",
    "import pandas as pd\n",
    "import scanpy as sc\n",
    "import tomlkit\n",
    "import logging\n",
    "from os import path, system\n",
    "from matplotlib import rc_context\n",
    "import matplotlib.pyplot as plt\n",
    "\n",
    "logging.basicConfig(level=logging.ERROR)\n"
   ]
  },
  {
   "cell_type": "code",
   "execution_count": null,
   "metadata": {},
   "outputs": [],
   "source": [
    "scGPT_model = \"../resources/scGPT_CP/\"\n",
    "scGPT_index = \"../resources/CellXGene_faiss_index/\"\n",
    "scGPT_column = \"scGPT\""
   ]
  },
  {
   "cell_type": "code",
   "execution_count": null,
   "metadata": {},
   "outputs": [],
   "source": [
    "## Pipeline parameters\n",
    "with open(\"../config.toml\", \"r\") as f:\n",
    "    config = tomlkit.parse(f.read())"
   ]
  },
  {
   "cell_type": "code",
   "execution_count": null,
   "metadata": {},
   "outputs": [],
   "source": [
    "ROOT_DIR = config[\"basic\"][\"ANALYSIS_DIR\"]\n",
    "DIR_SAVE = path.join(ROOT_DIR, config[\"basic\"][\"DIR_SAVE\"])\n",
    "TISSUE = config[\"basic\"][\"TISSUE\"]\n",
    "ANNOTATION_METHOD = config[\"annotation\"][\"ANNOTATION_METHOD\"]\n",
    "COUNTS_LAYER = config[\"normalization\"][\"COUNTS_LAYER\"]\n",
    "NORMAMALIZATION_LAYER = config[\"normalization\"][\"NORMALIZATION_METHOD\"]\n",
    "ANNOTATION_METHOD = config[\"annotation\"][\"ANNOTATION_METHOD\"]"
   ]
  },
  {
   "cell_type": "code",
   "execution_count": null,
   "metadata": {},
   "outputs": [],
   "source": [
    "adata = sc.read_h5ad(path.join(DIR_SAVE, \"adata.h5ad\"))"
   ]
  },
  {
   "cell_type": "markdown",
   "metadata": {},
   "source": [
    "# scGPT"
   ]
  },
  {
   "cell_type": "code",
   "execution_count": null,
   "metadata": {},
   "outputs": [],
   "source": [
    "# Run the scGPT annotation in a seperate process to avoid blocking the GPU resources in interactive mode\n",
    "if ANNOTATION_METHOD == \"scGPT\":\n",
    "    system(f\"python utils/scgpt_annotate.py -i {path.join(DIR_SAVE, 'adata.h5ad')} -c {scGPT_column} -m {scGPT_model} -n {scGPT_index} -o {path.join(DIR_SAVE, 'adata.h5ad')}\")\n",
    "    adata = sc.read_h5ad(path.join(DIR_SAVE, \"adata.h5ad\"))\n",
    "    with rc_context({\"figure.figsize\": (8,8)}):\n",
    "        sc.pl.umap(adata, color=[scGPT_column])\n",
    "        plt.tight_layout()\n"
   ]
  },
  {
   "cell_type": "markdown",
   "metadata": {},
   "source": [
    "# scVI + cellxgene"
   ]
  },
  {
   "cell_type": "code",
   "execution_count": null,
   "metadata": {},
   "outputs": [],
   "source": [
    "import cellxgene_census\n",
    "import cellxgene_census.experimental\n"
   ]
  },
  {
   "cell_type": "code",
   "execution_count": null,
   "metadata": {},
   "outputs": [],
   "source": [
    "census_version = \"2023-12-15\"\n",
    "organism = \"homo_sapiens\"\n",
    "\n",
    "census = cellxgene_census.open_soma(census_version=census_version)\n",
    "\n",
    "scvi_info = cellxgene_census.experimental.get_embedding_metadata_by_name(\n",
    "    embedding_name=\"scvi\",\n",
    "    organism=organism,\n",
    "    census_version=census_version,\n",
    ")\n"
   ]
  },
  {
   "cell_type": "code",
   "execution_count": null,
   "metadata": {},
   "outputs": [],
   "source": [
    "import warnings\n",
    "\n",
    "warnings.filterwarnings(\"ignore\")\n",
    "\n",
    "import anndata\n",
    "import cellxgene_census\n",
    "import numpy as np\n",
    "import scanpy as sc\n",
    "import scvi\n",
    "from sklearn.ensemble import RandomForestClassifier"
   ]
  },
  {
   "cell_type": "code",
   "execution_count": null,
   "metadata": {},
   "outputs": [],
   "source": [
    "!mkdir -p data\n",
    "!wget -nv -O data/pbmc3k_filtered_gene_bc_matrices.tar.gz http://cf.10xgenomics.com/samples/cell-exp/1.1.0/pbmc3k/pbmc3k_filtered_gene_bc_matrices.tar.gz\n",
    "!tar -xzf data/pbmc3k_filtered_gene_bc_matrices.tar.gz -C data/\n"
   ]
  },
  {
   "cell_type": "code",
   "execution_count": null,
   "metadata": {},
   "outputs": [],
   "source": [
    "adata = sc.read_10x_mtx(\"data/filtered_gene_bc_matrices/hg19/\", var_names=\"gene_ids\")\n"
   ]
  },
  {
   "cell_type": "code",
   "execution_count": null,
   "metadata": {},
   "outputs": [],
   "source": [
    "census = cellxgene_census.open_soma(census_version=\"2023-12-15\")\n",
    "\n",
    "# Some PBMC data from these collections\n",
    "# 1. https://cellxgene.cziscience.com/collections/c697eaaf-a3be-4251-b036-5f9052179e70\n",
    "# 2. https://cellxgene.cziscience.com/collections/f2a488bf-782f-4c20-a8e5-cb34d48c1f7e\n",
    "dataset_ids = [\n",
    "    \"fa8605cf-f27e-44af-ac2a-476bee4410d3\",\n",
    "    \"3c75a463-6a87-4132-83a8-c3002624394d\",\n",
    "]\n",
    "\n",
    "adata_census = cellxgene_census.get_anndata(\n",
    "    census=census,\n",
    "    measurement_name=\"RNA\",\n",
    "    organism=\"Homo sapiens\",\n",
    "    obs_value_filter=f\"dataset_id in {dataset_ids}\",\n",
    "    obs_embeddings=[\"scvi\"],\n",
    ")\n",
    "adata_census.var.set_index(\"feature_id\", inplace=True)\n"
   ]
  },
  {
   "cell_type": "code",
   "execution_count": null,
   "metadata": {},
   "outputs": [],
   "source": [
    "adata_census.obsm[\"scvi\"]"
   ]
  },
  {
   "cell_type": "code",
   "execution_count": null,
   "metadata": {},
   "outputs": [],
   "source": [
    "adata.obs[\"dataset_id\"] = \"QUERY\"\n",
    "# Subset the reference dataset to have a similar number of cells to the query dataset\n",
    "index_subset = np.random.choice(adata_census.n_obs, size=3000, replace=False)\n",
    "adata_census_subset = adata_census[index_subset, :]\n"
   ]
  },
  {
   "cell_type": "code",
   "execution_count": null,
   "metadata": {},
   "outputs": [],
   "source": [
    "\n",
    "adata_combined = anndata.concat([adata_census_subset, adata])\n",
    "sc.pp.neighbors(adata_combined, n_neighbors=15, use_rep=\"scvi\", metric=\"correlation\")\n",
    "sc.tl.umap(adata_combined)\n",
    "sc.pl.umap(adata_combined, color=[\"dataset_id\"])\n"
   ]
  },
  {
   "cell_type": "code",
   "execution_count": null,
   "metadata": {},
   "outputs": [],
   "source": [
    "rfc = RandomForestClassifier()\n",
    "rfc.fit(adata_census.obsm[\"scvi\"], adata_census.obs[\"cell_type\"].values)\n",
    "adata.obs[\"predicted_cell_type\"] = rfc.predict(adata.obsm[\"scvi\"])\n",
    "\n",
    "# let's get confidence scores\n",
    "probabilities = rfc.predict_proba(adata.obsm[\"scvi\"])\n",
    "confidence = np.zeros(adata.n_obs)\n",
    "for i in range(adata.n_obs):\n",
    "    confidence[i] = probabilities[i][rfc.classes_ == adata.obs[\"predicted_cell_type\"][i]]\n"
   ]
  },
  {
   "cell_type": "code",
   "execution_count": null,
   "metadata": {},
   "outputs": [],
   "source": [
    "\n",
    "vae_q.is_trained = True\n",
    "latent = vae_q.get_latent_representation()\n",
    "adata.obsm[\"scvi\"] = latent\n",
    "\n",
    "# filter out missing features\n",
    "adata = adata[:, adata.var[\"gene_names\"].notnull().values].copy()\n",
    "adata.var.set_index(\"gene_names\", inplace=True)"
   ]
  },
  {
   "cell_type": "code",
   "execution_count": null,
   "metadata": {},
   "outputs": [],
   "source": [
    "# -.-|m { input: false, output: false, input_fold: show}\n",
    "\n",
    "import tomlkit\n",
    "import scanpy as sc\n",
    "from anndata import AnnData\n",
    "import pandas as pd\n",
    "import numpy as np\n",
    "import scvi\n",
    "import seaborn as sns\n",
    "from pandas import DataFrame\n",
    "\n",
    "from os import path\n",
    "import session_info\n",
    "import logging\n",
    "from tempfile import TemporaryDirectory \n",
    "from os import system\n",
    "\n",
    "logging.basicConfig(level=logging.ERROR)\n",
    "\n",
    "scvi.settings.seed = 0\n",
    "sc.set_figure_params(figsize=(6, 6), frameon=False)\n"
   ]
  },
  {
   "cell_type": "code",
   "execution_count": null,
   "metadata": {},
   "outputs": [],
   "source": [
    "CELL_TYPIST_MODELS: list[str] = []"
   ]
  },
  {
   "cell_type": "code",
   "execution_count": null,
   "metadata": {},
   "outputs": [],
   "source": [
    "def scvi_cellassign_annotate(adata: AnnData, marker_matrix: DataFrame, subsample: int = 2000):\n",
    "\n",
    "    import torch\n",
    "    from scvi.external import CellAssign\n",
    "\n",
    "    torch.set_float32_matmul_precision(\"high\")\n",
    "\n",
    "    markers_common = list(set(adata.var_names).intersection(set(marker_matrix.index)))\n",
    "    adata_annotate = sc.pp.subsample(adata, n_obs = subsample, copy = True)\n",
    "    \n",
    "    adata_annotate = adata_annotate[:, list(markers_common)].copy()\n",
    "\n",
    "    adata_annotate.X = adata_annotate.layers[COUNTS_LAYER]\n",
    "    lib_size = adata_annotate.layers[COUNTS_LAYER].sum(1)\n",
    "    adata_annotate.obs[\"size_factor\"] = lib_size / np.mean(lib_size)\n",
    "\n",
    "    scvi.external.CellAssign.setup_anndata(adata_annotate, size_factor_key=\"size_factor\")\n",
    "    cellassign_model = CellAssign(adata_annotate, marker_matrix)\n",
    "\n",
    "    return cellassign_model, adata_annotate\n",
    "\n",
    "\n",
    "def convert_scHCA(tissue: str, quantile: float = 0.98):\n",
    "    df = pd.read_csv(\"../resources/scHCL_DB.csv\", index_col=0)\n",
    "    tissue_df = df.filter(regex=tissue)\n",
    "    quantiles = tissue_df.quantile(q=quantile, axis=0)\n",
    "    binary_markers = tissue_df.gt(quantiles, axis=1).astype(\"int\")\n",
    "    \n",
    "    # Remove markers where it is all 0 or 1\n",
    "    binary_markers = binary_markers.loc[~(binary_markers == 0).all(axis=1)]\n",
    "    binary_markers = binary_markers.loc[~(binary_markers == 1).all(axis=1)]\n",
    "\n",
    "    return binary_markers\n",
    "\n",
    "\n",
    "def cell_typist_annotate(adata: AnnData, models: list[str], inplace = True):\n",
    "    import celltypist\n",
    "    from celltypist import models as ctypist_models\n",
    "\n",
    "    ctypist_models.download_models(force_update=True, model=models)\n",
    "\n",
    "\n",
    "    adata_celltypist = adata.copy()  \n",
    "    adata_celltypist.X = adata.layers[COUNTS_LAYER]  \n",
    "    sc.pp.normalize_per_cell(adata_celltypist, counts_per_cell_after=10**4)  \n",
    "    sc.pp.log1p(adata_celltypist)\n",
    "    adata_celltypist.X = adata_celltypist.X.toarray()\n",
    "\n",
    "    for model in models:\n",
    "        loaded_model = ctypist_models.Model.load(model = model)\n",
    "        predictions = celltypist.annotate(adata_celltypist, model=loaded_model, majority_voting=True)\n",
    "        predictions_adata = predictions.to_adata()\n",
    "        adata.obs[\"celltypist_\"+model+\"_label\"] = predictions_adata.obs.loc[adata.obs.index, \"majority_voting\"]\n",
    "        adata.obs[\"celltypist_\"+model+\"_conf_score\"] = predictions_adata.obs.loc[adata.obs.index, \"conf_score\"]\n",
    "\n",
    "    if not inplace:\n",
    "        return adata\n",
    "\n",
    "\n",
    "def annotate_scGPT(adata: AnnData):\n",
    "    pass\n",
    "\n"
   ]
  },
  {
   "cell_type": "code",
   "execution_count": null,
   "metadata": {},
   "outputs": [],
   "source": [
    "## Pipeline parameters\n",
    "with open(\"../config.toml\", \"r\") as f:\n",
    "    config = tomlkit.parse(f.read())"
   ]
  },
  {
   "cell_type": "code",
   "execution_count": null,
   "metadata": {},
   "outputs": [],
   "source": [
    "ROOT_DIR = config[\"basic\"][\"ANALYSIS_DIR\"]\n",
    "DIR_SAVE = path.join(ROOT_DIR, config[\"basic\"][\"DIR_SAVE\"])\n",
    "TISSUE = config[\"basic\"][\"TISSUE\"]\n",
    "ANNOTATION_METHOD = config[\"annotation\"][\"ANNOTATION_METHOD\"]\n",
    "COUNTS_LAYER = config[\"normalization\"][\"COUNTS_LAYER\"]\n",
    "NORMAMALIZATION_LAYER = config[\"normalization\"][\"NORMALIZATION_METHOD\"]"
   ]
  },
  {
   "cell_type": "code",
   "execution_count": null,
   "metadata": {},
   "outputs": [],
   "source": [
    "#adata = sc.read_h5ad(path.join(DIR_SAVE, \"adata.h5ad\"))\n",
    "adata = sc.read_h5ad(\"../save/marcelo_ref.h5ad\")"
   ]
  },
  {
   "cell_type": "code",
   "execution_count": null,
   "metadata": {},
   "outputs": [],
   "source": [
    "if ANNOTATION_METHOD == \"scvi_cellassign\":\n",
    "    markers = convert_scHCA(TISSUE)\n",
    "    model, adata_annotated = scvi_cellassign_annotate(adata, markers, subsample=100)\n",
    "    model.train(batch_size = 8192, max_epochs=400)\n",
    "\n",
    "    model.history[\"elbo_validation\"].plot()\n",
    "\n",
    "    predictions = model.predict()\n",
    "    predictions.head()\n",
    "\n",
    "    sns.clustermap(predictions, cmap=\"viridis\")\n",
    "    adata_annotated.obs[\"cellassign_predictions\"] = predictions.idxmax(axis=1).values\n",
    "\n",
    "\n",
    "if ANNOTATION_METHOD == \"celltypist\":\n",
    "    cell_typist_annotate(adata, CELL_TYPIST_MODELS)"
   ]
  }
 ],
 "metadata": {
  "kernelspec": {
   "display_name": "Python 3",
   "language": "python",
   "name": "python3"
  },
  "language_info": {
   "codemirror_mode": {
    "name": "ipython",
    "version": 3
   },
   "file_extension": ".py",
   "mimetype": "text/x-python",
   "name": "python",
   "nbconvert_exporter": "python",
   "pygments_lexer": "ipython3",
   "version": "3.10.14"
  }
 },
 "nbformat": 4,
 "nbformat_minor": 4
}
