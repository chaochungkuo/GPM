{
 "cells": [
  {
   "cell_type": "raw",
   "metadata": {
    "vscode": {
     "languageId": "raw"
    }
   },
   "source": [
    "---\n",
    "title: \"Cell-cell communication\"\n",
    "author: \"Joseph Chao-Chung Kuo\"\n",
    "date: today\n",
    "output:\n",
    "  general:\n",
    "    output_stdout: false\n",
    "    output_error: false\n",
    "    output: true\n",
    "format:\n",
    "  html:\n",
    "    toc: true\n",
    "    toc-depth: 3\n",
    "    html-math-method: katex\n",
    "    code-fold: true\n",
    "    code-tools: true\n",
    "    number_sections: true\n",
    "    embed-resources: true\n",
    "    page-layout: full\n",
    "execute:\n",
    "    echo: true\n",
    "    warning: false\n",
    "---"
   ]
  },
  {
   "cell_type": "markdown",
   "metadata": {},
   "source": [
    "This notebook is used to run liana for CrossTalkeR according to the documentation provided by the authors:\n",
    "[Run liana for Ligand Receptor Interaction Prediction](https://costalab.github.io/CrossTalkeR/articles/run_liana.html)"
   ]
  },
  {
   "cell_type": "code",
   "execution_count": null,
   "metadata": {},
   "outputs": [],
   "source": [
    "import liana as li\n",
    "import scanpy as sc\n",
    "import os\n",
    "import logging\n",
    "import tomlkit\n",
    "import pandas as pd\n",
    "from os import path\n",
    "from itables import init_notebook_mode\n",
    "init_notebook_mode(all_interactive=True)\n",
    "logging.basicConfig(level=logging.ERROR)\n",
    "# sc.set_figure_params(frameon=False, dpi=300)\n",
    "sc._settings.ScanpyConfig.n_jobs = -1"
   ]
  },
  {
   "cell_type": "code",
   "execution_count": null,
   "metadata": {},
   "outputs": [],
   "source": [
    "## Pipeline parameters\n",
    "with open(\"../config.toml\", \"r\") as f:\n",
    "    config = tomlkit.parse(f.read())\n",
    "\n",
    "ROOT_DIR = config[\"basic\"][\"ANALYSIS_DIR\"]\n",
    "DIR_SAVE = path.join(ROOT_DIR, config[\"basic\"][\"DIR_SAVE\"])\n",
    "TISSUE = config[\"basic\"][\"TISSUE\"]\n",
    "ANNOTATION_METHOD = config[\"annotation\"][\"ANNOTATION_METHOD\"]\n",
    "COUNTS_LAYER = config[\"normalization\"][\"COUNTS_LAYER\"]\n",
    "NORMAMALIZATION_LAYER = config[\"normalization\"][\"NORMALIZATION_METHOD\"]"
   ]
  },
  {
   "cell_type": "code",
   "execution_count": null,
   "metadata": {},
   "outputs": [],
   "source": [
    "adata = sc.read_h5ad(path.join(DIR_SAVE, \"adata.h5ad\"))\n",
    "adata.raw = adata"
   ]
  },
  {
   "cell_type": "code",
   "execution_count": null,
   "metadata": {},
   "outputs": [],
   "source": [
    "sc.pl.umap(adata, color='annotation', title='', frameon=False)"
   ]
  },
  {
   "cell_type": "code",
   "execution_count": null,
   "metadata": {},
   "outputs": [],
   "source": [
    "# li.resource.show_resources()\n",
    "resource = li.rs.select_resource('consensus')\n",
    "resource.head()"
   ]
  },
  {
   "cell_type": "markdown",
   "metadata": {},
   "source": [
    "If the reference genome is mouse, please use the following code to generate mouse resource."
   ]
  },
  {
   "cell_type": "code",
   "execution_count": null,
   "metadata": {},
   "outputs": [],
   "source": [
    "if False:\n",
    "    map_df = li.rs.get_hcop_orthologs(url='https://ftp.ebi.ac.uk/pub/databases/genenames/hcop/human_mouse_hcop_fifteen_column.txt.gz',\n",
    "                                    columns=['human_symbol', 'mouse_symbol'],\n",
    "                                    # NOTE: HCOP integrates multiple resource, so we can filter out mappings in at least 3 of them for confidence\n",
    "                                    min_evidence=3\n",
    "                                    )\n",
    "    # rename the columns to source and target, respectively for the original organism and the target organism\n",
    "    map_df = map_df.rename(columns={'human_symbol':'source', 'mouse_symbol':'target'})\n",
    "\n",
    "    # We will then translate\n",
    "    mouse = li.rs.translate_resource(resource,\n",
    "                                    map_df=map_df,\n",
    "                                    columns=['ligand', 'receptor'],\n",
    "                                    replace=True,\n",
    "                                    # Here, we will be harsher and only keep mappings that don't map to more than 1 mouse gene\n",
    "                                    one_to_many=1\n",
    "                                    )\n",
    "    mouse"
   ]
  },
  {
   "cell_type": "code",
   "execution_count": null,
   "metadata": {},
   "outputs": [],
   "source": [
    "if not os.path.exists(\"./res_liana/\"):\n",
    "    os.makedirs(\"./res_liana/\")\n",
    "for i in set(adata.obs['sample']):\n",
    "    # print(i)\n",
    "    lr = li.method.cellphonedb(adata[adata.obs['sample']==i],\n",
    "                          groupby='annotation',\n",
    "                          expr_prop=0.1,\n",
    "                          #resource=mouse,\n",
    "                          verbose=True,\n",
    "                          resource_name='consensus',\n",
    "                          inplace=False)\n",
    "    lr.to_csv(f\"./res_liana/{i}_lr_liana_consensus_unfiltered.csv\")"
   ]
  },
  {
   "cell_type": "code",
   "execution_count": null,
   "metadata": {},
   "outputs": [],
   "source": [
    "data = {}\n",
    "for i in os.listdir(\"./res_liana/\"):\n",
    "    if i.endswith('lr_liana_consensus_unfiltered.csv'):\n",
    "        evfull = pd.read_csv(i)\n",
    "        evfull = evfull.loc[:,['ligand','receptor','source','target','lr_means','cellphone_pvals']]\n",
    "        evfull['type_gene_A'] = 'Ligand'\n",
    "        evfull['type_gene_B'] = 'Receptor'\n",
    "        evfull['gene_A'] = evfull['ligand']\n",
    "        evfull['gene_B'] = evfull['receptor']\n",
    "        evfull['MeanLR'] = evfull['lr_means']\n",
    "        evfull = evfull.loc[list(evfull.cellphone_pvals.to_numpy()<=0.05),:]\n",
    "        k=i[0:i.find('_lr_')]\n",
    "        evfull.loc[:, ['source', 'target', 'type_gene_A', 'type_gene_B', 'gene_A', 'gene_B', 'MeanLR']].to_csv(f'./res_liana/{k}_lr_ready.csv', index=False)\n",
    "        data[k]=os.path.abspath(f'./res_liana/{k}_lr_ready.csv')"
   ]
  }
 ],
 "metadata": {
  "language_info": {
   "name": "python"
  }
 },
 "nbformat": 4,
 "nbformat_minor": 2
}
