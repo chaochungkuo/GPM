{
  "cells": [
    {
      "cell_type": "raw",
      "metadata": {},
      "source": [
        "---\n",
        "title: Quality control\n",
        "format:\n",
        "  html:\n",
        "    toc: true\n",
        "    toc-location: left\n",
        "    code-fold: true\n",
        "    code-tools: true\n",
        "    code-line-numbers: true\n",
        "    code-copy: true\n",
        "    theme: cosmo\n",
        "    other-links:\n",
        "      - text: Back to the main page\n",
        "        href: ../\n",
        "---"
      ],
      "id": "f95f8073"
    },
    {
      "cell_type": "markdown",
      "metadata": {},
      "source": [
        "This quality control (QC) step is mainly focused on identifying and filtering out low quality cells and genes. Please refer to [Chapter 6: Quality Control](https://www.sc-best-practices.org/preprocessing_visualization/quality_control.html) for more information about QC in single-cell RNA-seq data.\n",
        "\n",
        "> Heumos, L., Schaar, A.C., Lance, C. et al. Best practices for single-cell analysis across modalities. Nat Rev Genet (2023). [https://doi.org/10.1038/s41576-023-00586-w](https://doi.org/10.1038/s41576-023-00586-w)\n",
        "\n",
        "## Import libraries"
      ],
      "id": "b537742d"
    },
    {
      "cell_type": "code",
      "metadata": {},
      "source": [
        "import scanpy as sc\n",
        "import anndata as ad\n",
        "import seaborn as sns\n",
        "import numpy as np\n",
        "from scipy.stats import median_abs_deviation\n",
        "import pooch\n",
        "import toml\n",
        "\n",
        "with open(\"../scanpy_config.toml\", \"r\") as file:\n",
        "    config = toml.load(file)\n",
        "\n",
        "sc.settings.set_figure_params(dpi=300, facecolor=\"white\")\n",
        "sc.settings.n_jobs = 4\n",
        "\n",
        "\n",
        "def is_outlier(adata, metric: str, nmads: int):\n",
        "    M = adata.obs[metric]\n",
        "    lower_bound = np.median(M) - nmads * median_abs_deviation(M)\n",
        "    upper_bound = np.median(M) + nmads * median_abs_deviation(M)\n",
        "    outlier = (M < lower_bound) | (upper_bound < M)\n",
        "    return outlier"
      ],
      "id": "85e850a8",
      "execution_count": null,
      "outputs": []
    },
    {
      "cell_type": "markdown",
      "metadata": {},
      "source": [
        "## Loading data"
      ],
      "id": "39a959ce"
    },
    {
      "cell_type": "code",
      "metadata": {},
      "source": [
        "#| warning: false\n",
        "EXAMPLE_DATA = pooch.create(\n",
        "    path=pooch.os_cache(\"scverse_tutorials\"),\n",
        "    base_url=\"doi:10.6084/m9.figshare.22716739.v1/\",\n",
        ")\n",
        "EXAMPLE_DATA.load_registry_from_doi()\n",
        "\n",
        "samples = {\n",
        "    \"s1d1\": \"s1d1_filtered_feature_bc_matrix.h5\",\n",
        "    \"s1d3\": \"s1d3_filtered_feature_bc_matrix.h5\",\n",
        "}\n",
        "adatas = {}\n",
        "\n",
        "for sample_id, filename in samples.items():\n",
        "    path = EXAMPLE_DATA.fetch(filename)\n",
        "    sample_adata = sc.read_10x_h5(path)\n",
        "    sample_adata.var_names_make_unique()\n",
        "    adatas[sample_id] = sample_adata\n",
        "\n",
        "adata = ad.concat(adatas, label=\"sample\")\n",
        "adata.obs_names_make_unique()"
      ],
      "id": "c6620575",
      "execution_count": null,
      "outputs": []
    },
    {
      "cell_type": "markdown",
      "metadata": {},
      "source": [
        "## Calculating quality control metrics"
      ],
      "id": "88f61ad4"
    },
    {
      "cell_type": "code",
      "metadata": {},
      "source": [
        "# mitochondrial genes, \"MT-\" for human, \"Mt-\" for mouse\n",
        "if config['basic']['organism']==\"human\":\n",
        "    mt_prefix = \"MT-\"\n",
        "elif config['basic']['organism']==\"mouse\":\n",
        "    mt_prefix =  \"Mt-\"\n",
        "adata.var[\"mt\"] = adata.var_names.str.startswith(mt_prefix)\n",
        "# ribosomal genes\n",
        "adata.var[\"ribo\"] = adata.var_names.str.startswith((\"RPS\", \"RPL\"))\n",
        "# hemoglobin genes\n",
        "adata.var[\"hb\"] = adata.var_names.str.contains(\"^HB[^(P)]\")\n",
        "\n",
        "sc.pp.calculate_qc_metrics(\n",
        "    adata, qc_vars=[\"mt\", \"ribo\", \"hb\"], inplace=True, percent_top=[20], log1p=True\n",
        ")"
      ],
      "id": "0b53adbd",
      "execution_count": null,
      "outputs": []
    },
    {
      "cell_type": "markdown",
      "metadata": {},
      "source": [
        "# Filtering low quality cells\n",
        "\n",
        "## Visualizing quality control metrics"
      ],
      "id": "3c080593"
    },
    {
      "cell_type": "code",
      "metadata": {},
      "source": [
        "#| layout-nrow: 2\n",
        "p1 = sns.displot(adata.obs[\"total_counts\"],\n",
        "                 bins=100, kde=False)\n",
        "p2 = sc.pl.scatter(adata,\n",
        "                  \"total_counts\",\n",
        "                  \"n_genes_by_counts\",\n",
        "                  color=\"pct_counts_mt\")\n",
        "p3 = sc.pl.violin(adata,\n",
        "                  \"pct_counts_mt\",\n",
        "                  jitter=0.4)\n",
        "p4 = sc.pl.violin(adata,\n",
        "                  \"n_genes_by_counts\",\n",
        "                  jitter=0.4,)"
      ],
      "id": "daa06c23",
      "execution_count": null,
      "outputs": []
    },
    {
      "cell_type": "markdown",
      "metadata": {},
      "source": [
        "## Identifying cells with low quality"
      ],
      "id": "2efefe21"
    },
    {
      "cell_type": "code",
      "metadata": {},
      "source": [
        "nmad_log1p_total_counts = 5\n",
        "nmad_log1p_n_genes_by_counts = 5\n",
        "nmad_pct_counts_in_top_20_genes = 5\n",
        "\n",
        "adata.obs[\"outlier\"] = (\n",
        "    is_outlier(\n",
        "        adata, \"log1p_total_counts\",\n",
        "        nmad_log1p_total_counts)\n",
        "    | is_outlier(\n",
        "        adata, \"log1p_n_genes_by_counts\",\n",
        "        nmad_log1p_n_genes_by_counts)\n",
        "    | is_outlier(\n",
        "        adata, \"pct_counts_in_top_20_genes\",\n",
        "        nmad_pct_counts_in_top_20_genes)\n",
        ")\n",
        "n_outliers = adata.obs.outlier.value_counts()[True]\n",
        "pct_outliers = n_outliers / adata.n_obs * 100\n",
        "print(f\"Number of outliers:     {n_outliers} / {adata.n_obs}\")\n",
        "print(f\"Percentage of outliers: {pct_outliers:.2f}%\")"
      ],
      "id": "fe70b6b9",
      "execution_count": null,
      "outputs": []
    },
    {
      "cell_type": "markdown",
      "metadata": {},
      "source": [
        "## Identifying mitochondrial outliers"
      ],
      "id": "e1a2b622"
    },
    {
      "cell_type": "code",
      "metadata": {},
      "source": [
        "nmad_pct_counts_mt = 3\n",
        "threshold_pct_counts_mt = 8\n",
        "adata.obs[\"mt_outlier\"] = is_outlier(\n",
        "    adata, \"pct_counts_mt\", nmad_pct_counts_mt) | (\n",
        "    adata.obs[\"pct_counts_mt\"] > threshold_pct_counts_mt\n",
        ")\n",
        "n_outliers = adata.obs.mt_outlier.value_counts()[True]\n",
        "pct_outliers = n_outliers / adata.n_obs * 100\n",
        "print(f\"Number of outliers:     {n_outliers} / {adata.n_obs}\")\n",
        "print(f\"Percentage of outliers: {pct_outliers:.2f}%\")"
      ],
      "id": "b43068a0",
      "execution_count": null,
      "outputs": []
    },
    {
      "cell_type": "markdown",
      "metadata": {},
      "source": [
        "## Filtering"
      ],
      "id": "2d7adee4"
    },
    {
      "cell_type": "code",
      "metadata": {},
      "source": [
        "print(f\"Number of cells before filtering: {adata.n_obs}\")\n",
        "adata = adata[(~adata.obs.outlier) & (~adata.obs.mt_outlier)].copy()\n",
        "print(f\"Number of cells after filtering:  {adata.n_obs}\")"
      ],
      "id": "63f84bf1",
      "execution_count": null,
      "outputs": []
    },
    {
      "cell_type": "markdown",
      "metadata": {},
      "source": [
        "## Quality control metrics after filtering"
      ],
      "id": "e9aaf2a6"
    },
    {
      "cell_type": "code",
      "metadata": {},
      "source": [
        "#| layout-nrow: 2\n",
        "p1 = sns.displot(adata.obs[\"total_counts\"],\n",
        "                 bins=100, kde=False)\n",
        "p2 = sc.pl.scatter(adata,\n",
        "                  \"total_counts\",\n",
        "                  \"n_genes_by_counts\",\n",
        "                  color=\"pct_counts_mt\")\n",
        "p3 = sc.pl.violin(adata,\n",
        "                  \"pct_counts_mt\",\n",
        "                  jitter=0.4)\n",
        "p4 = sc.pl.violin(adata,\n",
        "                  \"n_genes_by_counts\",\n",
        "                  jitter=0.4,)"
      ],
      "id": "f8b1f27d",
      "execution_count": null,
      "outputs": []
    },
    {
      "cell_type": "markdown",
      "metadata": {},
      "source": [
        "# Correction of ambient RNA\n"
      ],
      "id": "c7233d32"
    },
    {
      "cell_type": "code",
      "metadata": {},
      "source": [
        "import anndata2ri\n",
        "import logging\n",
        "\n",
        "import rpy2.rinterface_lib.callbacks as rcb\n",
        "import rpy2.robjects as ro\n",
        "\n",
        "rcb.logger.setLevel(logging.ERROR)\n",
        "ro.pandas2ri.activate()\n",
        "anndata2ri.activate()\n",
        "\n",
        "%load_ext rpy2.ipython"
      ],
      "id": "86f51a99",
      "execution_count": null,
      "outputs": []
    },
    {
      "cell_type": "code",
      "metadata": {},
      "source": [
        "adata_pp = adata.copy()\n",
        "sc.pp.normalize_per_cell(adata_pp)\n",
        "sc.pp.log1p(adata_pp)\n",
        "sc.pp.pca(adata_pp)\n",
        "sc.pp.neighbors(adata_pp)\n",
        "sc.tl.leiden(adata_pp, key_added=\"soupx_groups\")\n",
        "\n",
        "# Preprocess variables for SoupX\n",
        "soupx_groups = adata_pp.obs[\"soupx_groups\"]\n",
        "del adata_pp\n",
        "cells = adata.obs_names\n",
        "genes = adata.var_names\n",
        "data = adata.X.T\n",
        "\n",
        "adata_raw = ad.concat(adatas, label=\"sample\")\n",
        "adata_raw.var_names_make_unique()\n",
        "data_tod = adata_raw.X.T\n",
        "del adata_raw"
      ],
      "id": "2061c89f",
      "execution_count": null,
      "outputs": []
    },
    {
      "cell_type": "markdown",
      "metadata": {},
      "source": [
        "```{r}\n",
        "library(SoupX)\n",
        "```"
      ],
      "id": "7c6204f0"
    }
  ],
  "metadata": {
    "kernelspec": {
      "name": "python3",
      "language": "python",
      "display_name": "Python 3 (ipykernel)"
    }
  },
  "nbformat": 4,
  "nbformat_minor": 5
}