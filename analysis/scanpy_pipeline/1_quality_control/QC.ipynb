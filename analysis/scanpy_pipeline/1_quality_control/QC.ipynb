{
 "cells": [
  {
   "cell_type": "code",
   "execution_count": null,
   "metadata": {},
   "outputs": [],
   "source": [
    "import tomlkit\n",
    "import scanpy as sc\n",
    "import anndata as ad\n",
    "from anndata import AnnData\n",
    "from scipy.stats import median_abs_deviation\n",
    "import seaborn as sns\n",
    "import numpy as np\n",
    "import matplotlib.pyplot as plt\n",
    "import patchworklib as pw\n",
    "from typing import List, Dict, Callable"
   ]
  },
  {
   "cell_type": "markdown",
   "metadata": {},
   "source": [
    "**TODO**\n",
    "- [x] Add function factory  \n",
    "- [x] Add component factory  \n",
    "- [ ] Add a away to generate reports"
   ]
  },
  {
   "cell_type": "markdown",
   "metadata": {},
   "source": [
    "\n",
    "# Utility Functions"
   ]
  },
  {
   "cell_type": "code",
   "execution_count": null,
   "metadata": {},
   "outputs": [],
   "source": [
    "def get_sample_name(file_path: str, black_list: list[str], n = 3):\n",
    "    from os import path\n",
    "    \"\"\"\"Function to return probable sample name from a path, it recurselvy goes through the path and returns the first element not in the black list.\"\"\"\n",
    "    if n == 0:\n",
    "        return \"\"\n",
    "\n",
    "    tmp = path.basename(file_path)\n",
    "    _d = path.dirname(file_path)\n",
    "\n",
    "    if tmp not in black_list:\n",
    "        return tmp\n",
    "    else:\n",
    "        res = get_sample_name(_d, black_list, n-1)\n",
    "    return res\n",
    "\n",
    "\n",
    "def is_outlier(adata: AnnData, metric: str, nmads: int):\n",
    "    \n",
    "    M = adata.obs[metric]\n",
    "    outlier = (M < np.median(M) - nmads * median_abs_deviation(M)) | (\n",
    "        np.median(M) + nmads * median_abs_deviation(M) < M\n",
    "    )\n",
    "    return outlier\n",
    "\n",
    "\n",
    "def read_parsebio(data_path: str):\n",
    "    \"\"\"Reads ParseBio\n",
    "\n",
    "    Args:\n",
    "        data_path (str): _description_\n",
    "\n",
    "    Returns:\n",
    "        _type_: _description_\n",
    "    \"\"\"    \n",
    "    import pandas as pd\n",
    "\n",
    "    adata = sc.read_mtx(data_path + 'count_matrix.mtx')\n",
    "\n",
    "    # reading in gene and cell data\n",
    "    gene_data = pd.read_csv(data_path + 'all_genes.csv')\n",
    "    cell_meta = pd.read_csv(data_path + 'cell_metadata.csv')\n",
    "\n",
    "    # find genes with nan values and filter\n",
    "    gene_data = gene_data[gene_data.gene_name.notnull()]\n",
    "    notNa = gene_data.index\n",
    "    notNa = notNa.to_list()\n",
    "\n",
    "    # remove genes with nan values and assign gene names\n",
    "    adata = adata[:,notNa]\n",
    "    adata.var = gene_data\n",
    "    adata.var.set_index('gene_name', inplace=True)\n",
    "    adata.var.index.name = None\n",
    "    adata.var_names_make_unique()\n",
    "\n",
    "    # add cell meta data to anndata object\n",
    "    adata.obs = cell_meta\n",
    "    adata.obs.set_index('bc_wells', inplace=True)\n",
    "    adata.obs.index.name = None\n",
    "    adata.obs_names_make_unique()\n",
    "\n",
    "    return adata\n",
    "\n"
   ]
  },
  {
   "cell_type": "markdown",
   "metadata": {},
   "source": [
    "# Constants & data"
   ]
  },
  {
   "cell_type": "code",
   "execution_count": null,
   "metadata": {},
   "outputs": [],
   "source": [
    "DIR_base = \"PROJECT_PROJECT_PATH/\"\n",
    "# Provide directory where to find the base directory for all samples to search for count matrix, feature, and cell metadata\n",
    "DIR_samples = \"/home/mohamed/Documents/Bioinformatics/scRNA_pipeline_testing/preprocessing/test\" # CellRanger standard output\n",
    "# ParseBio: \"PROJECT_PROCESSING_PATH/results_combined\n",
    "\n",
    "\n",
    "TECHNOLOGY: str = \"10x\"\n",
    "AUTODISCOVER: bool = True\n",
    "CONCAT_SAMPLES: bool = True\n",
    "ORGANISM: bool = \"human\"\n",
    "NMADS: int = 5\n",
    "NMADS_MITO: int = 3\n",
    "FILTER_DOUBLETS: bool = False\n",
    "REGRESS: bool = False\n",
    "CELL_CYCLE_SCORE: bool = True\n",
    "VARS_TO_REGRESS: List[str]|None = None # Add variables to regress pct_counts_mt, pct_counts_ribo\n",
    "\n",
    "inputs: Dict[str, List|Callable] = {\n",
    "          \"10x\":{\n",
    "                 \"files\": ['features.tsv.gz', 'barcodes.tsv.gz', 'matrix.mtx.gz'],\n",
    "                 \"black_list\": [\"filtered_feature_bc_matrix\", \"raw_feature_bc_matrix\"],\n",
    "                 \"function\": sc.read_10x_mtx\n",
    "                 },\n",
    "\n",
    "          \"ParseBio\":{\n",
    "                    \"files\": [\"all_genes.csv\", \"cell_metadata.csv\", \"count_matrix.mtx\"],\n",
    "                    \"black_list\": [\"DGE_filtered\", \"DGE_unfiltered\"],\n",
    "                    \"function\": read_parsebio\n",
    "                    }\n",
    "          }\n",
    "\n",
    "\n",
    "qc_features_fac: Dict[str, List[str]] = {\"human\": {\n",
    "                         \"mito\": [\"MT-\"],\n",
    "                         \"ribo\": [\"RBS\", \"RPL\"],\n",
    "                         \"hb\": [\"^HB[^(P)]\"]\n",
    "                         },\n",
    "               \"mouse\": {\n",
    "                        \"mito\": [\"mt\"],\n",
    "                        \"ribo\": [\"Rps\", \"Rps\"],\n",
    "                        \"hb\": [\"^Hb[^(p)]\"] # Validate this later\n",
    "               }\n",
    "                         }\n",
    "\n",
    "raw_name = \"raw_feature_bc_matrix\"\n",
    "\n"
   ]
  },
  {
   "cell_type": "markdown",
   "metadata": {},
   "source": [
    "# Pipeline"
   ]
  },
  {
   "cell_type": "markdown",
   "metadata": {},
   "source": [
    "## Reading files"
   ]
  },
  {
   "cell_type": "code",
   "execution_count": null,
   "metadata": {},
   "outputs": [],
   "source": [
    "from os import walk, path\n",
    "\n",
    "samples = {}\n",
    "sample_components = inputs[TECHNOLOGY][\"files\"]\n",
    "black_list = inputs[TECHNOLOGY][\"black_list\"]\n",
    "read_function = inputs[TECHNOLOGY][\"function\"]\n",
    "\n",
    "if AUTODISCOVER:\n",
    "    files = walk(DIR_samples)\n",
    "    for root, dir, files in files:\n",
    "        if len(set(sample_components).difference(set(files))) == 0 and path.basename(root) != raw_name:\n",
    "            samples[get_sample_name(root, black_list, 4)] = root\n",
    "\n",
    "samples"
   ]
  },
  {
   "cell_type": "code",
   "execution_count": null,
   "metadata": {},
   "outputs": [],
   "source": [
    "adatas = {}\n",
    "raw_h5 = {}\n",
    "for sample_id, filename in samples.items():\n",
    "    sample_adata = read_function(filename)\n",
    "    sample_adata.var_names_make_unique()\n",
    "    adatas[sample_id] = sample_adata\n",
    "\n",
    "# if TECHNOLOGY == \"10x\":\n",
    "#     for sample_id, filename in samples.items():\n",
    "#         adata_raw = sc.read_10x_h5(path.join(path.dirname(filename), \"raw_feature_bc_matrix.h5\"))\n",
    "#         adata_raw.var_names_make_unique()\n",
    "#         raw_h5[sample_id] = adata_raw\n",
    "\n",
    "\n",
    "if CONCAT_SAMPLES:\n",
    "    adata = ad.concat(adatas, label=\"sample\", join=\"outer\", merge=\"same\")\n",
    "    adata.obs_names_make_unique()\n",
    "    del samples\n",
    "\n",
    "# if CONCAT_SAMPLES and TECHNOLOGY == \"10x\":\n",
    "#     adata_raw = ad.concat(raw_h5, label=\"sample\", join=\"outer\", merge=\"same\")\n",
    "#     adata_raw.obs_names_make_unique()\n",
    "#     del raw_h5\n"
   ]
  },
  {
   "cell_type": "markdown",
   "metadata": {},
   "source": [
    "**TODO: Handle also multple samples at once**"
   ]
  },
  {
   "cell_type": "markdown",
   "metadata": {},
   "source": [
    "## Adding quality metrics"
   ]
  },
  {
   "cell_type": "code",
   "execution_count": null,
   "metadata": {},
   "outputs": [],
   "source": [
    "mt_features = qc_features_fac[ORGANISM][\"mito\"]\n",
    "rb_features = qc_features_fac[ORGANISM][\"ribo\"]\n",
    "hb_features = qc_features_fac[ORGANISM][\"hb\"]\n",
    "\n",
    "\n",
    "# mitochondrial genes, \"MT-\" for human, \"Mt-\" for mouse\n",
    "adata.var[\"mt\"] = adata.var_names.str.startswith(tuple(mt_features))\n",
    "# ribosomal genes\n",
    "adata.var[\"ribo\"] = adata.var_names.str.startswith(tuple(rb_features))\n",
    "# hemoglobin genes\n",
    "adata.var[\"hb\"] = adata.var_names.str.contains(tuple(hb_features)[0]) #Only regex is accepted\n",
    "\n",
    "sc.pp.calculate_qc_metrics(\n",
    "    adata, qc_vars=[\"mt\", \"ribo\", \"hb\"], percent_top=[20],  inplace=True, log1p=True\n",
    ")\n",
    "\n"
   ]
  },
  {
   "cell_type": "code",
   "execution_count": null,
   "metadata": {},
   "outputs": [],
   "source": [
    "#TODO: Add additional Critera for filtering based on Absolute thresholds, can it be per sample?\n",
    "\n",
    "adata.obs[\"outlier\"] = (\n",
    "    is_outlier(adata, \"log1p_total_counts\", NMADS)\n",
    "    | is_outlier(adata, \"log1p_n_genes_by_counts\", NMADS)\n",
    "    | is_outlier(adata, \"pct_counts_in_top_20_genes\", NMADS)\n",
    ")\n",
    "\n",
    "adata.obs[\"mt_outlier\"] = is_outlier(adata, \"pct_counts_mt\", NMADS_MITO) "
   ]
  },
  {
   "cell_type": "markdown",
   "metadata": {},
   "source": [
    "## Ambient RNA correction"
   ]
  },
  {
   "cell_type": "markdown",
   "metadata": {},
   "source": [
    "### Prepare object for SoupX"
   ]
  },
  {
   "cell_type": "code",
   "execution_count": null,
   "metadata": {},
   "outputs": [],
   "source": [
    "# adata_pp = adata.copy()\n",
    "# sc.pp.normalize_per_cell(adata_pp)\n",
    "# sc.pp.log1p(adata_pp)\n",
    "# sc.pp.pca(adata_pp)\n",
    "# sc.pp.neighbors(adata_pp)\n",
    "# sc.tl.leiden(adata_pp, key_added=\"soupx_groups\")\n",
    "\n",
    "# # Preprocess variables for SoupX\n",
    "# soupx_groups = adata_pp.obs[\"soupx_groups\"]\n",
    "\n",
    "# del adata_pp\n",
    "\n",
    "# cells = adata.obs_names\n",
    "# genes = adata.var_names\n",
    "# data = adata.X.T\n",
    "\n",
    "# data_tod = adata_raw.X.T\n"
   ]
  },
  {
   "cell_type": "markdown",
   "metadata": {},
   "source": [
    "**Not reliable, do via interop later**"
   ]
  },
  {
   "cell_type": "markdown",
   "metadata": {},
   "source": [
    "## Cell cycle Scoring"
   ]
  },
  {
   "cell_type": "code",
   "execution_count": null,
   "metadata": {},
   "outputs": [],
   "source": [
    "# Split into 2 lists\n",
    "s_genes = [x.strip() for x in open('../Resources/s_genes.txt')]\n",
    "g2m_genes = [x.strip() for x in open('../Resources/s_genes.txt')]"
   ]
  },
  {
   "cell_type": "code",
   "execution_count": null,
   "metadata": {},
   "outputs": [],
   "source": [
    "adata.layers[\"counts\"] = adata.X.copy()\n",
    "sc.pp.normalize_per_cell(adata)\n",
    "sc.pp.log1p(adata)\n",
    "sc.pp.scale(adata)"
   ]
  },
  {
   "cell_type": "code",
   "execution_count": null,
   "metadata": {},
   "outputs": [],
   "source": [
    "# Cell cycle scoring is not reliable and not similair to Seurat\n",
    "sc.tl.score_genes_cell_cycle(adata, s_genes=s_genes, g2m_genes=g2m_genes)"
   ]
  },
  {
   "cell_type": "markdown",
   "metadata": {},
   "source": [
    "## Quality Plots"
   ]
  },
  {
   "cell_type": "markdown",
   "metadata": {},
   "source": [
    "### Violin plots"
   ]
  },
  {
   "cell_type": "code",
   "execution_count": null,
   "metadata": {},
   "outputs": [],
   "source": [
    "sc.pl.violin(\n",
    "    adata,\n",
    "    [\"n_genes_by_counts\", \"total_counts\", \"pct_counts_mt\", \"pct_counts_ribo\"],\n",
    "    jitter=0.4,\n",
    "    multi_panel=True,\n",
    "    groupby = \"sample\",\n",
    "    stripplot = True\n",
    ")\n"
   ]
  },
  {
   "cell_type": "markdown",
   "metadata": {},
   "source": [
    "### Histograms"
   ]
  },
  {
   "cell_type": "code",
   "execution_count": null,
   "metadata": {},
   "outputs": [],
   "source": [
    "ax1 = pw.Brick(figsize=(3,2))\n",
    "ax2 = pw.Brick(figsize=(3,2))\n",
    "ax3 = pw.Brick(figsize=(3,2))\n",
    "ax4 = pw.Brick(figsize=(3,2))\n",
    "\n",
    "sns.histplot(data=adata.obs, x=\"total_counts\", hue=\"sample\", bins=300, ax = ax1)\n",
    "sns.histplot(data=adata.obs, x=\"n_genes_by_counts\", hue=\"sample\", bins=300, ax = ax2)\n",
    "sns.histplot(data=adata.obs, x=\"pct_counts_ribo\", hue=\"sample\", bins=300, ax = ax3)\n",
    "sns.histplot(data=adata.obs, x=\"pct_counts_mt\", hue=\"sample\", bins=300, ax = ax4)\n",
    "\n",
    "\n",
    "for ax in [ax1, ax2, ax3, ax4]:\n",
    "    ax.move_legend(new_loc='upper left', bbox_to_anchor=(1.05, 1.0))\n",
    "    legend = ax.legend_\n",
    "    for t in legend.get_texts():\n",
    "        t.set_fontsize(8)"
   ]
  },
  {
   "cell_type": "code",
   "execution_count": null,
   "metadata": {},
   "outputs": [],
   "source": [
    "(ax1+ax2)/(ax3+ax4)"
   ]
  },
  {
   "cell_type": "markdown",
   "metadata": {},
   "source": [
    "### Scatter plots of confounders"
   ]
  },
  {
   "cell_type": "code",
   "execution_count": null,
   "metadata": {},
   "outputs": [],
   "source": [
    "import seaborn.objects as so\n",
    "f1 = (\n",
    "    so.Plot(adata.obs, x=\"total_counts\", y=\"pct_counts_mt\", color = \"mt_outlier\")\n",
    "    .add(so.Dot(pointsize=5, alpha=0.4))\n",
    ")\n",
    "f1"
   ]
  },
  {
   "cell_type": "code",
   "execution_count": null,
   "metadata": {},
   "outputs": [],
   "source": [
    "\n",
    "f2 = (\n",
    "    so.Plot(adata.obs, x=\"total_counts\", y=\"n_genes_by_counts\", color = \"outlier\")\n",
    "    .add(so.Dot(pointsize=5, alpha=0.4))\n",
    ")\n",
    "f2\n"
   ]
  },
  {
   "cell_type": "markdown",
   "metadata": {},
   "source": [
    "## Clustering prior to cell filtering"
   ]
  },
  {
   "cell_type": "code",
   "execution_count": null,
   "metadata": {},
   "outputs": [],
   "source": [
    "sc.pp.pca(adata, n_comps=20)\n",
    "sc.pp.neighbors(adata)\n",
    "sc.tl.leiden(adata, key_added=\"groups\", flavor=\"igraph\")\n",
    "sc.tl.umap(adata)"
   ]
  },
  {
   "cell_type": "code",
   "execution_count": null,
   "metadata": {},
   "outputs": [],
   "source": [
    "sc.pl.umap(adata, size= 2,color= [\"sample\", \"total_counts\", \"n_genes_by_counts\", \"pct_counts_mt\"], show=False, ncols = 2)"
   ]
  },
  {
   "cell_type": "markdown",
   "metadata": {},
   "source": [
    "## Cell filtering based on outlier function"
   ]
  },
  {
   "cell_type": "code",
   "execution_count": null,
   "metadata": {},
   "outputs": [],
   "source": [
    "adata = adata[(~adata.obs.outlier) & (~adata.obs.mt_outlier)].copy()"
   ]
  },
  {
   "cell_type": "code",
   "execution_count": null,
   "metadata": {},
   "outputs": [],
   "source": [
    "p1 = sc.pl.scatter(adata, \"total_counts\", \"n_genes_by_counts\", color=\"pct_counts_mt\")"
   ]
  },
  {
   "cell_type": "markdown",
   "metadata": {},
   "source": [
    "## Regression of Variables"
   ]
  },
  {
   "cell_type": "code",
   "execution_count": null,
   "metadata": {},
   "outputs": [],
   "source": [
    "if REGRESS:\n",
    "    sc.pp.regress_out(adata, keys= VARS_TO_REGRESS)"
   ]
  },
  {
   "cell_type": "markdown",
   "metadata": {},
   "source": [
    "## Doublet Detection"
   ]
  },
  {
   "cell_type": "code",
   "execution_count": null,
   "metadata": {},
   "outputs": [],
   "source": [
    "#TODO: Check real-life performance\n",
    "#TODO: Check Interop with R to convert object to R & vice-versa \n",
    "if FILTER_DOUBLETS:\n",
    "    adata = sc.pp.scrublet(adata, batch_key=\"sample\")"
   ]
  },
  {
   "cell_type": "markdown",
   "metadata": {},
   "source": [
    "## Clustering After Cell filtering "
   ]
  },
  {
   "cell_type": "code",
   "execution_count": null,
   "metadata": {},
   "outputs": [],
   "source": [
    "sc.pp.pca(adata, n_comps=20)\n",
    "sc.pp.neighbors(adata)\n",
    "sc.tl.leiden(adata, key_added=\"groups\", flavor=\"igraph\")\n",
    "sc.tl.umap(adata)"
   ]
  },
  {
   "cell_type": "code",
   "execution_count": null,
   "metadata": {},
   "outputs": [],
   "source": [
    "sc.pl.umap(adata, size= 2,color= [\"sample\", \"total_counts\", \"n_genes_by_counts\", \"pct_counts_mt\"], show=False, ncols = 2)"
   ]
  },
  {
   "cell_type": "markdown",
   "metadata": {},
   "source": [
    "## Save Result"
   ]
  },
  {
   "cell_type": "code",
   "execution_count": null,
   "metadata": {},
   "outputs": [],
   "source": [
    "adata.write_h5ad(\"adata.h5ad\")"
   ]
  }
 ],
 "metadata": {
  "kernelspec": {
   "display_name": "Pixi - Python 3 (ipykernel)",
   "language": "python",
   "name": "pixi-kernel-python3"
  },
  "language_info": {
   "codemirror_mode": {
    "name": "ipython",
    "version": 3
   },
   "file_extension": ".py",
   "mimetype": "text/x-python",
   "name": "python",
   "nbconvert_exporter": "python",
   "pygments_lexer": "ipython3",
   "version": "3.11.9"
  }
 },
 "nbformat": 4,
 "nbformat_minor": 2
}
