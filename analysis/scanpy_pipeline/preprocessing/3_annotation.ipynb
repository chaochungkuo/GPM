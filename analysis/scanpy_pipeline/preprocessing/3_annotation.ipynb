{
 "cells": [
  {
   "cell_type": "raw",
   "metadata": {},
   "source": [
    "title: QC of scRNA-seq\n",
    "author: Mohamed Mabrouk\n",
    "last compiled: \"{{ datetime.now().strftime('%Y-%m-%d') }}\"\n",
    "\"toc\": true\n",
    "output:\n",
    "    general:\n",
    "        input: false\n",
    "        output_stdout: false\n",
    "        output_error: false\n",
    "        output: true\n",
    "    html:\n",
    "        code_folding: hide"
   ]
  },
  {
   "cell_type": "code",
   "execution_count": 1,
   "metadata": {},
   "outputs": [],
   "source": [
    "%load_ext pretty_jupyter"
   ]
  },
  {
   "cell_type": "code",
   "execution_count": 2,
   "metadata": {},
   "outputs": [
    {
     "name": "stderr",
     "output_type": "stream",
     "text": [
      "Global seed set to 0\n"
     ]
    }
   ],
   "source": [
    "# -.-|m { input: false, output: false, input_fold: show}\n",
    "\n",
    "import tomlkit\n",
    "import scanpy as sc\n",
    "from anndata import AnnData\n",
    "import pandas as pd\n",
    "import numpy as np\n",
    "import scvi\n",
    "import seaborn as sns\n",
    "\n",
    "from os import path\n",
    "import session_info\n",
    "import logging\n",
    "from tempfile import TemporaryDirectory \n",
    "from os import system\n",
    "\n",
    "logging.basicConfig(level=logging.ERROR)\n",
    "\n",
    "scvi.settings.seed = 0\n",
    "sc.set_figure_params(figsize=(6, 6), frameon=False)\n"
   ]
  },
  {
   "cell_type": "code",
   "execution_count": 3,
   "metadata": {},
   "outputs": [],
   "source": [
    "def scvi_cellassign_annotate(adata, marker_matrix, subsample=2000):\n",
    "\n",
    "    import torch\n",
    "    from scvi.external import CellAssign\n",
    "\n",
    "    torch.set_float32_matmul_precision(\"high\")\n",
    "\n",
    "    markers_common = list(set(adata.var_names).intersection(set(marker_matrix.index)))\n",
    "    adata_annotate = sc.pp.subsample(adata, n_obs = subsample, copy = True)\n",
    "    \n",
    "    adata_annotate = adata_annotate[:, list(markers_common)].copy()\n",
    "\n",
    "    adata_annotate.X = adata_annotate.layers[COUNTS_LAYER]\n",
    "    lib_size = adata_annotate.layers[COUNTS_LAYER].sum(1)\n",
    "    adata_annotate.obs[\"size_factor\"] = lib_size / np.mean(lib_size)\n",
    "\n",
    "    scvi.external.CellAssign.setup_anndata(adata_annotate, size_factor_key=\"size_factor\")\n",
    "    cellassign_model = CellAssign(adata_annotate, marker_matrix)\n",
    "\n",
    "    return cellassign_model\n",
    "\n",
    "\n",
    "def convert_scHCA(tissue, quantile = 0.98):\n",
    "    df = pd.read_csv(\"../resources/scHCL_DB.csv\", index_col=0)\n",
    "    tissue_df = df.filter(regex=tissue)\n",
    "    quantiles = tissue_df.quantile(q=quantile, axis=0)\n",
    "    binary_markers = tissue_df.gt(quantiles, axis=1).astype(\"int\")\n",
    "    \n",
    "    # Remove markers where it is all 0 or 1\n",
    "    binary_markers = binary_markers.loc[~(binary_markers == 0).all(axis=1)]\n",
    "    binary_markers = binary_markers.loc[~(binary_markers == 1).all(axis=1)]\n",
    "\n",
    "    return binary_markers\n"
   ]
  },
  {
   "cell_type": "code",
   "execution_count": 4,
   "metadata": {},
   "outputs": [],
   "source": [
    "## Pipeline parameters\n",
    "\n",
    "with open(\"../config.toml\", \"r\") as f:\n",
    "    config = tomlkit.parse(f.read())"
   ]
  },
  {
   "cell_type": "code",
   "execution_count": 5,
   "metadata": {},
   "outputs": [],
   "source": [
    "ROOT_DIR = config[\"basic\"][\"ANALYSIS_DIR\"]\n",
    "DIR_SAVE = path.join(ROOT_DIR, config[\"basic\"][\"DIR_SAVE\"])\n",
    "#TISSUE = config[\"basic\"][\"TISSUE\"]\n",
    "TISSUE = \"Fibro\"\n",
    "ANNOTATION_METHOD = config[\"annotation\"][\"ANNOTATION_METHOD\"]\n",
    "COUNTS_LAYER = config[\"normalization\"][\"COUNTS_LAYER\"]\n",
    "NORMALIZATION_LAYER = \"\""
   ]
  },
  {
   "cell_type": "code",
   "execution_count": 6,
   "metadata": {},
   "outputs": [],
   "source": [
    "adata = sc.read_h5ad(path.join(DIR_SAVE, \"adata.h5ad\"))"
   ]
  },
  {
   "cell_type": "code",
   "execution_count": 7,
   "metadata": {},
   "outputs": [
    {
     "name": "stderr",
     "output_type": "stream",
     "text": [
      "/home/mmabrouk/Documents/Projects/GPM/analysis/scanpy_pipeline/preprocessing/.pixi/envs/default/lib/python3.11/site-packages/scvi/data/fields/_layer_field.py:115: UserWarning: Training will be faster when sparse matrix is formatted as CSR. It is safe to cast before model initialization.\n",
      "  _verify_and_correct_data_format(adata, self.attr_name, self.attr_key)\n",
      "GPU available: False, used: False\n",
      "TPU available: False, using: 0 TPU cores\n",
      "IPU available: False, using: 0 IPUs\n",
      "HPU available: False, using: 0 HPUs\n",
      "/home/mmabrouk/Documents/Projects/GPM/analysis/scanpy_pipeline/preprocessing/.pixi/envs/default/lib/python3.11/site-packages/lightning/pytorch/loops/fit_loop.py:281: PossibleUserWarning: The number of training batches (1) is smaller than the logging interval Trainer(log_every_n_steps=10). Set a lower value for log_every_n_steps if you want to see logs for the training epoch.\n",
      "  rank_zero_warn(\n"
     ]
    },
    {
     "name": "stdout",
     "output_type": "stream",
     "text": [
      "Epoch 17/400:   4%|▍         | 16/400 [00:43<17:23,  2.72s/it, v_num=1, train_loss_step=1.89e+3, train_loss_epoch=1.89e+3]"
     ]
    }
   ],
   "source": [
    "if ANNOTATION_METHOD == \"scvi_cellassign\":\n",
    "    markers = convert_scHCA(TISSUE)\n",
    "    model = scvi_cellassign_annotate(adata, markers, subsample=100)\n",
    "    model.train()\n",
    "\n",
    "    model.history[\"elbo_validation\"].plot()\n",
    "\n",
    "    predictions = model.predict()\n",
    "    predictions.head()\n",
    "\n",
    "    sns.clustermap(predictions, cmap=\"viridis\")"
   ]
  }
 ],
 "metadata": {
  "kernelspec": {
   "display_name": "Pixi - Python 3 (ipykernel)",
   "language": "python",
   "name": "pixi-kernel-python3"
  },
  "language_info": {
   "codemirror_mode": {
    "name": "ipython",
    "version": 3
   },
   "file_extension": ".py",
   "mimetype": "text/x-python",
   "name": "python",
   "nbconvert_exporter": "python",
   "pygments_lexer": "ipython3",
   "version": "3.11.9"
  }
 },
 "nbformat": 4,
 "nbformat_minor": 2
}
