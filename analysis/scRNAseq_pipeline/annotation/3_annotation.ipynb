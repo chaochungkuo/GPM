{
 "cells": [
  {
   "cell_type": "raw",
   "metadata": {
    "vscode": {
     "languageId": "raw"
    }
   },
   "source": [
    "---\n",
    "title: \"Annotation of scRNA-seq\"\n",
    "author: \"Mohamed Mabrouk\"\n",
    "date: today\n",
    "format:\n",
    "  html:\n",
    "    toc: true\n",
    "    toc-depth: 3\n",
    "    html-math-method: katex\n",
    "    code-fold: true\n",
    "    embed-resources: true\n",
    "    page-layout: full\n",
    "execute:\n",
    "    echo: true\n",
    "    warning: false\n",
    "jupyter:\n",
    "  kernelspec:\n",
    "    name: \"pixi-kernel-python3\"\n",
    "    language: \"python\"\n",
    "    display_name: \"pixi-kernel-python3\"\n",
    "---"
   ]
  },
  {
   "cell_type": "code",
   "execution_count": null,
   "metadata": {},
   "outputs": [],
   "source": [
    "# -.-|m { input: false, output: false, input_fold: show}\n",
    "\n",
    "from os import path, system\n",
    "from pathlib import Path\n",
    "from typing import List, Union\n",
    "\n",
    "import GPUtil\n",
    "import matplotlib.pyplot as plt\n",
    "import numpy as np\n",
    "import scanpy as sc\n",
    "import seaborn as sns\n",
    "import session_info\n",
    "import tomlkit\n",
    "from anndata import AnnData\n",
    "from pandas import DataFrame\n",
    "from tomlkit.items import Array, String\n",
    "from tomlkit.toml_document import TOMLDocument\n",
    "from utils.util_funcs import cell_typist_annotate, get_marker_genes, score_markers"
   ]
  },
  {
   "cell_type": "code",
   "execution_count": null,
   "metadata": {},
   "outputs": [],
   "source": [
    "# Add CELL_TYPIST model(s) to use\n",
    "CELL_TYPIST_MODELS: List[str] = []\n",
    "\n",
    "# scGPT batch size\n",
    "BATCH_SIZE: int = 128\n",
    "\n",
    "# known marker parameters\n",
    "MARKER_GENES_PATH: Path = \"\"\n",
    "ANNOTATION_THERESHOLD: float = 0.5"
   ]
  },
  {
   "cell_type": "code",
   "execution_count": null,
   "metadata": {},
   "outputs": [],
   "source": [
    "# | echo: false\n",
    "# | output: false\n",
    "# | warning: false\n",
    "\n",
    "## Pipeline parameters\n",
    "with open(\"../config.toml\", \"r\") as f:\n",
    "    config: TOMLDocument = tomlkit.parse(f.read())"
   ]
  },
  {
   "cell_type": "code",
   "execution_count": null,
   "metadata": {},
   "outputs": [],
   "source": [
    "ROOT_DIR: String = config[\"basic\"][\"ANALYSIS_DIR\"]\n",
    "DIR_SAVE: String = path.join(ROOT_DIR, config[\"basic\"][\"DIR_SAVE\"])\n",
    "COUNTS_LAYER: String = config[\"normalization\"][\"COUNTS_LAYER\"]\n",
    "CLUSTERING_COL: String = config[\"clustering\"][\"CLUSTERING_COL\"]\n",
    "ANNOTATION_METHODS: Union[String, Array] = config[\"annotation\"][\"ANNOTATION_METHOD\"]\n",
    "NORMAMALIZATION_LAYER: String = config[\"normalization\"][\"NORMALIZATION_METHOD\"]"
   ]
  },
  {
   "cell_type": "code",
   "execution_count": null,
   "metadata": {},
   "outputs": [],
   "source": [
    "adata: AnnData = sc.read_h5ad(path.join(DIR_SAVE, \"adata.h5ad\"))"
   ]
  },
  {
   "cell_type": "code",
   "execution_count": null,
   "metadata": {},
   "outputs": [],
   "source": [
    "# TODO: Keep track of anotation columns, add UMAP for each method\n",
    "# TODO: save the columns where the annotation is being done.\n",
    "# TODO: add Majority Voting option to marker annotation.\n",
    "# TODO: add more visualization for the annotation.\n",
    "\n",
    "\n",
    "def annotation_dispatcher(method: str) -> None:\n",
    "    global adata\n",
    "    if method == \"celltypist\":\n",
    "        cell_typist_annotate(adata, CELL_TYPIST_MODELS)\n",
    "        adata.write(path.join(DIR_SAVE, \"adata.h5ad\"))\n",
    "    if method == \"scGPT\":\n",
    "        deviceIDs: List = GPUtil.getAvailable()\n",
    "        if len(deviceIDs) > 0:\n",
    "            system(\n",
    "                f\"pixi run -e scgpt scgpt_annotate -i {path.join(DIR_SAVE, 'adata.h5ad')} --config {path.join(ROOT_DIR, 'config.toml')} -b {BATCH_SIZE}\"\n",
    "            )\n",
    "            adata: AnnData = sc.read_h5ad(path.join(DIR_SAVE, \"adata.h5ad\"))\n",
    "        else:\n",
    "            print(\"CUDA is not available, scGPT will not be run efficiently on CPU\")\n",
    "            return\n",
    "\n",
    "    if method == \"scTAB\":\n",
    "        system(\n",
    "            f\"pixi run -e sctab sctab_annotate --input {path.join(DIR_SAVE, 'adata.h5ad')} --config {path.join(ROOT_DIR, 'config.toml')}\"\n",
    "        )\n",
    "        adata: AnnData = sc.read_h5ad(path.join(DIR_SAVE, \"adata.h5ad\"))\n",
    "\n",
    "    if method == \"known_markers\":\n",
    "        df: DataFrame = get_marker_genes(MARKER_GENES_PATH, adata)\n",
    "        score_markers(df, adata, 0.5)\n",
    "        adata.write_h5ad(path.join(DIR_SAVE, \"adata.h5ad\"))\n",
    "\n",
    "\n",
    "# Getting a stable counts layer to be used later, setting X to be raw count values.\n",
    "if COUNTS_LAYER == \"X\":\n",
    "    adata.layers[\"counts\"] = adata.X.copy()\n",
    "    COUNTS_LAYER = \"counts\"\n",
    "elif COUNTS_LAYER in adata.layers.keys():\n",
    "    adata.X = adata.layers[COUNTS_LAYER].copy()\n",
    "else:\n",
    "    raise ValueError(\"{COUNTS_LAYER} layer can't be found in the object\")\n",
    "\n",
    "if isinstance(ANNOTATION_METHODS, list):\n",
    "    for METHOD in ANNOTATION_METHODS:\n",
    "        annotation_dispatcher(METHOD, adata)\n",
    "elif isinstance(ANNOTATION_METHODS, str):\n",
    "    annotation_dispatcher(ANNOTATION_METHODS, adata)"
   ]
  },
  {
   "cell_type": "markdown",
   "metadata": {},
   "source": [
    "# Annotated cell identities"
   ]
  },
  {
   "cell_type": "code",
   "execution_count": null,
   "metadata": {},
   "outputs": [],
   "source": [
    "annotation_keys = (\n",
    "    r\"scTAB_annotation|scGPT_annotation|celltypist_annotation|marker_annotation\"\n",
    ")\n",
    "\n",
    "selected_annotation_columns = adata.obs.filter(\n",
    "    regex=annotation_keys, axis=1\n",
    ").columns.to_list()\n",
    "\n",
    "ncols = 2\n",
    "nrows = len(selected_annotation_columns) // 2 + 1\n",
    "fig_width = ncols * 9\n",
    "fig_height = nrows * 6\n",
    "fig, axs = plt.subplots(nrows, ncols, figsize=(fig_width, fig_height))\n",
    "axs = axs.flatten()\n",
    "fig.subplots_adjust(hspace=0.8, wspace=0.1)\n",
    "\n",
    "for i, key in enumerate(selected_annotation_columns):\n",
    "    adata.obs[key].value_counts().head(20).plot(kind=\"bar\", ax=axs[i])\n",
    "    axs[i].set_title(key)\n",
    "\n",
    "\n",
    "if len(selected_annotation_columns) < nrows * ncols:\n",
    "    for i in range(len(selected_annotation_columns), nrows * ncols):\n",
    "        fig.delaxes(axs[i])"
   ]
  },
  {
   "cell_type": "markdown",
   "metadata": {},
   "source": [
    "## UMAP after annotation"
   ]
  },
  {
   "cell_type": "code",
   "execution_count": null,
   "metadata": {},
   "outputs": [],
   "source": [
    "ncols = 2\n",
    "nrows = len(selected_annotation_columns) // 2 + 1\n",
    "fig_width = ncols * 7\n",
    "fig_height = nrows * 6\n",
    "fig, axs = plt.subplots(nrows, ncols, figsize=(fig_width, fig_height))\n",
    "axs = axs.flatten()\n",
    "fig.subplots_adjust(hspace=0.5, wspace=0.8)\n",
    "\n",
    "MAX_CLASSES = 10\n",
    "for i, col in enumerate(selected_annotation_columns):\n",
    "    if len(adata.obs[col].value_counts()) > MAX_CLASSES:\n",
    "        top_legends = adata.obs[col].value_counts().index[0:MAX_CLASSES].to_list()\n",
    "        sc.pl.umap(\n",
    "            adata,\n",
    "            color=col,\n",
    "            ncols=1,\n",
    "            show=False,\n",
    "            # return_fig=True,\n",
    "            groups=top_legends,\n",
    "            title=f\"{col}, Top {MAX_CLASSES} classes\",\n",
    "            ax=axs[i],\n",
    "        )\n",
    "    else:\n",
    "        sc.pl.umap(\n",
    "            adata,\n",
    "            color=col,\n",
    "            ncols=1,\n",
    "            # return_fig=True,\n",
    "            show=False,\n",
    "            ax=axs[i],\n",
    "        )\n",
    "\n",
    "if len(selected_annotation_columns) < nrows * ncols:\n",
    "    for i in range(len(selected_annotation_columns), nrows * ncols):\n",
    "        fig.delaxes(axs[i])"
   ]
  },
  {
   "cell_type": "markdown",
   "metadata": {},
   "source": [
    "# Session Information"
   ]
  },
  {
   "cell_type": "code",
   "execution_count": null,
   "metadata": {},
   "outputs": [],
   "source": [
    "session_info.show()"
   ]
  }
 ],
 "metadata": {
  "kernelspec": {
   "display_name": "Pixi - Python 3 (ipykernel)",
   "language": "python",
   "name": "pixi-kernel-python3"
  },
  "language_info": {
   "codemirror_mode": {
    "name": "ipython",
    "version": 3
   },
   "file_extension": ".py",
   "mimetype": "text/x-python",
   "name": "python",
   "nbconvert_exporter": "python",
   "pygments_lexer": "ipython3",
   "version": "3.9.19"
  }
 },
 "nbformat": 4,
 "nbformat_minor": 4
}
