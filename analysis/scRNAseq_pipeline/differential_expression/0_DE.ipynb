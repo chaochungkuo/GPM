{
 "cells": [
  {
   "cell_type": "raw",
   "metadata": {
    "vscode": {
     "languageId": "raw"
    }
   },
   "source": [
    "---\n",
    "title: \"Differential expression of scRNA-seq\"\n",
    "author: \"Mohamed Mabrouk\"\n",
    "date: today\n",
    "format:\n",
    "  html:\n",
    "    toc: true\n",
    "    toc-depth: 3\n",
    "    html-math-method: katex\n",
    "    code-fold: true\n",
    "    embed-resources: true\n",
    "    page-layout: full\n",
    "execute:\n",
    "    echo: true\n",
    "    warning: false\n",
    "---"
   ]
  },
  {
   "cell_type": "code",
   "execution_count": null,
   "metadata": {},
   "outputs": [],
   "source": [
    "# | echo: false\n",
    "# | output: false\n",
    "# | warning: false\n",
    "\n",
    "from os import path\n",
    "from typing import List, Union\n",
    "\n",
    "import decoupler as dc\n",
    "import pandas as pd\n",
    "import pegasus as pg\n",
    "import scanpy as sc\n",
    "import tomlkit"
   ]
  },
  {
   "cell_type": "code",
   "execution_count": null,
   "metadata": {},
   "outputs": [],
   "source": [
    "# | echo: true\n",
    "# | output: false\n",
    "# | warning: false\n",
    "\n",
    "CLUSTERING_COL: str = \"\"\n",
    "CONDIITION: Union[str, None] = None\n",
    "SUBSET: Union[str, List, None] = None"
   ]
  },
  {
   "cell_type": "code",
   "execution_count": null,
   "metadata": {},
   "outputs": [],
   "source": [
    "# | echo: false\n",
    "# | output: false\n",
    "# | warning: false\n",
    "\n",
    "## Pipeline parameters\n",
    "with open(\"../config.toml\", \"r\") as f:\n",
    "    config = tomlkit.parse(f.read())"
   ]
  },
  {
   "cell_type": "code",
   "execution_count": null,
   "metadata": {},
   "outputs": [],
   "source": [
    "# | output: false\n",
    "# | warning: false\n",
    "\n",
    "\n",
    "# Directories\n",
    "ROOT_DIR = config[\"basic\"][\"ANALYSIS_DIR\"]\n",
    "DIR_SAVE = path.join(ROOT_DIR, config[\"basic\"][\"DIR_SAVE\"])\n",
    "DIR_samples = config[\"basic\"][\"DIR_SAMPLES\"]\n",
    "\n",
    "# Basic information\n",
    "ORGANISM: str = config[\"basic\"][\"ORGANISM\"]\n",
    "\n",
    "if CLUSTERING_COL == \"\":\n",
    "    CLUSTERING_COL = config[\"clustering\"][\"CLUSTERING_COL\"]\n",
    "else:\n",
    "    pass"
   ]
  },
  {
   "cell_type": "code",
   "execution_count": null,
   "metadata": {},
   "outputs": [],
   "source": [
    "adata = sc.read_h5ad(path.join(DIR_SAVE, \"adata.h5ad\"))"
   ]
  },
  {
   "cell_type": "code",
   "execution_count": null,
   "metadata": {},
   "outputs": [],
   "source": [
    "pg.de_analysis(adata, \"groups\", CONDIITION, SUBSET, t=True)"
   ]
  },
  {
   "cell_type": "code",
   "execution_count": null,
   "metadata": {},
   "outputs": [],
   "source": [
    "markers = pg.markers(adata)\n",
    "markers[\"0\"][\"up\"].query(\"t_qval < 0.05  & log2FC > 1\")\n",
    "\n",
    "pg.write_results_to_excel(markers, path.join(DIR_SAVE, \"markers.xlsx\"))"
   ]
  },
  {
   "cell_type": "code",
   "execution_count": null,
   "metadata": {},
   "outputs": [],
   "source": [
    "adata.varm[\"de_res\"].dtype.names"
   ]
  },
  {
   "cell_type": "code",
   "execution_count": null,
   "metadata": {},
   "outputs": [],
   "source": [
    "import pegasusio as pgio\n",
    "\n",
    "unimodal_obj = pgio.UnimodalData(adata)\n",
    "\n",
    "pg.gsea(unimodal_obj, \"de_res:20:t_qval\", \"canonical_pathways\", n_jobs=-1)"
   ]
  },
  {
   "cell_type": "code",
   "execution_count": null,
   "metadata": {},
   "outputs": [],
   "source": [
    "\n",
    "db = dc.get_resource(\"MSigDB\")\n"
   ]
  },
  {
   "cell_type": "code",
   "execution_count": null,
   "metadata": {},
   "outputs": [],
   "source": [
    "# Get reactome pathways\n",
    "reactome = db.query(\"collection == 'reactome_pathways'\")\n",
    "# Filter duplicates\n",
    "reactome = reactome[~reactome.duplicated((\"geneset\", \"genesymbol\"))]\n",
    "geneset_size = reactome.groupby(\"geneset\").size()\n",
    "gsea_genesets = geneset_size.index[(geneset_size > 15) & (geneset_size < 500)]\n"
   ]
  },
  {
   "cell_type": "code",
   "execution_count": 2,
   "metadata": {},
   "outputs": [
    {
     "name": "stderr",
     "output_type": "stream",
     "text": [
      "UsageError: Cell magic `%%help` not found.\n"
     ]
    }
   ],
   "source": [
    "dc.run_aucell(\n",
    "    adata,\n",
    "    reactome,\n",
    "    source=\"geneset\",\n",
    "    target=\"genesymbol\",\n",
    "    use_raw=False,\n",
    ")\n"
   ]
  },
  {
   "cell_type": "code",
   "execution_count": 12,
   "metadata": {},
   "outputs": [
    {
     "data": {
      "text/plain": [
       "['Adhesome',\n",
       " 'Almen2009',\n",
       " 'Baccin2019',\n",
       " 'CORUM_Funcat',\n",
       " 'CORUM_GO',\n",
       " 'CSPA',\n",
       " 'CSPA_celltype',\n",
       " 'CancerDrugsDB',\n",
       " 'CancerGeneCensus',\n",
       " 'CancerSEA',\n",
       " 'CellCall',\n",
       " 'CellCellInteractions',\n",
       " 'CellChatDB',\n",
       " 'CellChatDB_complex',\n",
       " 'CellPhoneDB',\n",
       " 'CellPhoneDB_complex',\n",
       " 'CellTalkDB',\n",
       " 'CellTypist',\n",
       " 'Cellinker',\n",
       " 'Cellinker_complex',\n",
       " 'ComPPI',\n",
       " 'CytoSig',\n",
       " 'DGIdb',\n",
       " 'DisGeNet',\n",
       " 'EMBRACE',\n",
       " 'Exocarta',\n",
       " 'GO_Intercell',\n",
       " 'GPCRdb',\n",
       " 'Guide2Pharma',\n",
       " 'HGNC',\n",
       " 'HPA_secretome',\n",
       " 'HPA_subcellular',\n",
       " 'HPA_tissue',\n",
       " 'HPMR',\n",
       " 'HumanCellMap',\n",
       " 'ICELLNET',\n",
       " 'ICELLNET_complex',\n",
       " 'IntOGen',\n",
       " 'Integrins',\n",
       " 'InterPro',\n",
       " 'KEGG-PC',\n",
       " 'Kirouac2010',\n",
       " 'LOCATE',\n",
       " 'LRdb',\n",
       " 'Lambert2018',\n",
       " 'MCAM',\n",
       " 'MSigDB',\n",
       " 'Matrisome',\n",
       " 'MatrixDB',\n",
       " 'Membranome',\n",
       " 'NetPath',\n",
       " 'OPM',\n",
       " 'PROGENy',\n",
       " 'PanglaoDB',\n",
       " 'Phobius',\n",
       " 'Phosphatome',\n",
       " 'Ramilowski2015',\n",
       " 'Ramilowski_location',\n",
       " 'SIGNOR',\n",
       " 'SignaLink_function',\n",
       " 'SignaLink_pathway',\n",
       " 'Surfaceome',\n",
       " 'TCDB',\n",
       " 'TFcensus',\n",
       " 'TopDB',\n",
       " 'UniProt_family',\n",
       " 'UniProt_keyword',\n",
       " 'UniProt_location',\n",
       " 'UniProt_tissue',\n",
       " 'UniProt_topology',\n",
       " 'Vesiclepedia',\n",
       " 'Wang',\n",
       " 'Zhong2015',\n",
       " 'connectomeDB2020',\n",
       " 'iTALK',\n",
       " 'kinase.com',\n",
       " 'scConnect',\n",
       " 'scConnect_complex',\n",
       " 'talklr']"
      ]
     },
     "execution_count": 12,
     "metadata": {},
     "output_type": "execute_result"
    }
   ],
   "source": [
    "\n",
    "dc.show_resources()"
   ]
  }
 ],
 "metadata": {
  "kernelspec": {
   "display_name": "Pixi - Python 3 (ipykernel)",
   "language": "python",
   "name": "pixi-kernel-python3"
  },
  "language_info": {
   "codemirror_mode": {
    "name": "ipython",
    "version": 3
   },
   "file_extension": ".py",
   "mimetype": "text/x-python",
   "name": "python",
   "nbconvert_exporter": "python",
   "pygments_lexer": "ipython3",
   "version": "3.10.14"
  }
 },
 "nbformat": 4,
 "nbformat_minor": 2
}
