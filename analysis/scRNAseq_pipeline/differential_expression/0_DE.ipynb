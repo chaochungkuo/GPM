{
 "cells": [
  {
   "cell_type": "raw",
   "metadata": {
    "vscode": {
     "languageId": "raw"
    }
   },
   "source": [
    "---\n",
    "title: \"Differential expression of scRNA-seq\"\n",
    "author: \"Mohamed Mabrouk\"\n",
    "date: today\n",
    "format:\n",
    "  html:\n",
    "    toc: true\n",
    "    toc-depth: 3\n",
    "    html-math-method: katex\n",
    "    code-fold: true\n",
    "    embed-resources: true\n",
    "    page-layout: full\n",
    "execute:\n",
    "    echo: true\n",
    "    warning: false\n",
    "jupyter:\n",
    "  kernelspec:\n",
    "    name: \"pixi-kernel-python3\"\n",
    "    language: \"python\"\n",
    "    display_name: \"pixi-kernel-python3\"\n",
    "---"
   ]
  },
  {
   "cell_type": "code",
   "execution_count": null,
   "metadata": {},
   "outputs": [],
   "source": [
    "# | echo: false\n",
    "# | output: false\n",
    "# | warning: false\n",
    "\n",
    "from os import path\n",
    "from typing import List, Union\n",
    "\n",
    "import decoupler as dc\n",
    "import pandas as pd\n",
    "import scanpy as sc\n",
    "import tomlkit\n",
    "from os.path import join\n",
    "from datetime import datetime\n",
    "import panel as pn\n",
    "\n",
    "pn.extension(\"tabulator\")"
   ]
  },
  {
   "cell_type": "code",
   "execution_count": null,
   "metadata": {},
   "outputs": [],
   "source": [
    "# | echo: true\n",
    "# | output: false\n",
    "# | warning: false\n",
    "\n",
    "CLUSTERING_COL: str = \"scTAB_annotation_majority_voting\"\n",
    "CONDIITION: Union[str, None] = None\n",
    "SUBSET: Union[str, List, None] = None"
   ]
  },
  {
   "cell_type": "code",
   "execution_count": null,
   "metadata": {},
   "outputs": [],
   "source": [
    "# | echo: false\n",
    "# | output: false\n",
    "# | warning: false\n",
    "\n",
    "## Pipeline parameters\n",
    "with open(\"../config.toml\", \"r\") as f:\n",
    "    config = tomlkit.parse(f.read())"
   ]
  },
  {
   "cell_type": "code",
   "execution_count": null,
   "metadata": {},
   "outputs": [],
   "source": [
    "# | output: false\n",
    "# | warning: false\n",
    "\n",
    "\n",
    "# Directories\n",
    "ROOT_DIR = config[\"basic\"][\"ANALYSIS_DIR\"]\n",
    "DIR_SAVE = path.join(ROOT_DIR, config[\"basic\"][\"DIR_SAVE\"])\n",
    "DIR_samples = config[\"basic\"][\"DIR_SAMPLES\"]\n",
    "\n",
    "# Basic information\n",
    "ORGANISM: str = config[\"basic\"][\"ORGANISM\"]\n",
    "NORMALIZATION_METHOD = config[\"normalization\"][\"NORMALIZATION_METHOD\"]\n",
    "\n",
    "if CLUSTERING_COL == \"\":\n",
    "    CLUSTERING_COL = config[\"clustering\"][\"CLUSTERING_COL\"]\n",
    "elif CLUSTERING_COL == \"\":\n",
    "    raise ValueError(\n",
    "        \"No clustering column found. please provide a key for cell grouping\"\n",
    "    )"
   ]
  },
  {
   "cell_type": "code",
   "execution_count": null,
   "metadata": {},
   "outputs": [],
   "source": [
    "# | echo: false\n",
    "# | output: false\n",
    "# | warning: false\n",
    "\n",
    "adata = sc.read_h5ad(path.join(DIR_SAVE, \"adata.h5ad\"))\n",
    "adata.X = adata.layers[NORMALIZATION_METHOD].copy()"
   ]
  },
  {
   "cell_type": "code",
   "execution_count": null,
   "metadata": {},
   "outputs": [],
   "source": [
    "# | echo: false\n",
    "# | output: false\n",
    "# | warning: false\n",
    "\n",
    "sc.tl.rank_genes_groups(\n",
    "    adata,\n",
    "    groupby=CLUSTERING_COL,\n",
    "    mask_var=SUBSET,\n",
    "    layer=NORMALIZATION_METHOD,\n",
    "    method=\"wilcoxon\",\n",
    "    pts=True,\n",
    ")\n",
    "sc.tl.filter_rank_genes_groups(adata)"
   ]
  },
  {
   "cell_type": "code",
   "execution_count": null,
   "metadata": {},
   "outputs": [],
   "source": [
    "# | echo: false\n",
    "# | output: false\n",
    "# | warning: false\n",
    "\n",
    "cell_types = adata.obs[CLUSTERING_COL].unique().tolist()\n",
    "de_df = {}\n",
    "for c_type in cell_types:\n",
    "    de_df[c_type] = sc.get.rank_genes_groups_df(adata, group=c_type).sort_values(\n",
    "        by=\"logfoldchanges\", ascending=False\n",
    "    )"
   ]
  },
  {
   "cell_type": "code",
   "execution_count": null,
   "metadata": {},
   "outputs": [],
   "source": [
    "# | echo: false\n",
    "# | output: false\n",
    "# | warning: false\n",
    "\n",
    "writer = pd.ExcelWriter(\n",
    "    join(DIR_SAVE, datetime.strftime(datetime.now(), \"%Y%m%d\") + \"_DE_results.xlsx\"),\n",
    "    engine=\"openpyxl\",\n",
    ")\n",
    "for df_name, df in de_df.items():\n",
    "    df.to_excel(writer, sheet_name=df_name)\n",
    "writer.close()"
   ]
  },
  {
   "cell_type": "code",
   "execution_count": null,
   "metadata": {},
   "outputs": [],
   "source": [
    "# | echo: false\n",
    "# | output: false\n",
    "# | warning: false\n",
    "\n",
    "cell_types = adata.obs[CLUSTERING_COL].unique().tolist()\n",
    "de_df = {}\n",
    "for c_type in cell_types:\n",
    "    de_df[c_type] = sc.get.rank_genes_groups_df(\n",
    "        adata, group=c_type, pval_cutoff=0.05\n",
    "    ).sort_values(by=\"logfoldchanges\", ascending=False)"
   ]
  },
  {
   "cell_type": "code",
   "execution_count": null,
   "metadata": {},
   "outputs": [],
   "source": [
    "# | echo: false\n",
    "# | warning: false\n",
    "\n",
    "widget_ls = []\n",
    "for index, key in enumerate(de_df.keys()):\n",
    "    widget_ls.append(\n",
    "        (\n",
    "            key,\n",
    "            pn.widgets.Tabulator(\n",
    "                de_df[key],\n",
    "                header_filters=True,\n",
    "                pagination=\"local\",\n",
    "                show_index=False,\n",
    "                sortable=True,\n",
    "                disabled=True,\n",
    "            ),\n",
    "        )\n",
    "    )\n",
    "\n",
    "pn.Tabs(*widget_ls, dynamic=True)"
   ]
  },
  {
   "cell_type": "code",
   "execution_count": null,
   "metadata": {},
   "outputs": [],
   "source": [
    "# | echo: false\n",
    "# | warning: false\n",
    "\n",
    "sc.pl.rank_genes_groups(adata)"
   ]
  },
  {
   "cell_type": "code",
   "execution_count": null,
   "metadata": {},
   "outputs": [],
   "source": [
    "# | echo: false\n",
    "# | warning: false\n",
    "\n",
    "sc.pl.rank_genes_groups_dotplot(adata)"
   ]
  },
  {
   "cell_type": "code",
   "execution_count": null,
   "metadata": {},
   "outputs": [],
   "source": [
    "# | echo: false\n",
    "# | warning: false\n",
    "\n",
    "sc.pl.rank_genes_groups_heatmap(adata)"
   ]
  },
  {
   "cell_type": "code",
   "execution_count": null,
   "metadata": {},
   "outputs": [],
   "source": [
    "# | echo: false\n",
    "# | warning: false\n",
    "\n",
    "sc.pl.rank_genes_groups_matrixplot(adata)"
   ]
  },
  {
   "cell_type": "code",
   "execution_count": null,
   "metadata": {},
   "outputs": [],
   "source": [
    "# | echo: false\n",
    "# | warning: false\n",
    "\n",
    "sc.pl.rank_genes_groups_stacked_violin(adata)"
   ]
  }
 ],
 "metadata": {
  "kernelspec": {
   "display_name": "Pixi - Python 3 (ipykernel)",
   "language": "python",
   "name": "pixi-kernel-python3"
  },
  "language_info": {
   "codemirror_mode": {
    "name": "ipython",
    "version": 3
   },
   "file_extension": ".py",
   "mimetype": "text/x-python",
   "name": "python",
   "nbconvert_exporter": "python",
   "pygments_lexer": "ipython3",
   "version": "3.9.19"
  }
 },
 "nbformat": 4,
 "nbformat_minor": 2
}
